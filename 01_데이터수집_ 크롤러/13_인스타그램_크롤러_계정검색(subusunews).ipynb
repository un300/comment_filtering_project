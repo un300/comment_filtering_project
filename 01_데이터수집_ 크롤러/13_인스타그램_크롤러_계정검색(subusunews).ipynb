{
 "cells": [
  {
   "cell_type": "markdown",
   "metadata": {},
   "source": [
    "###### 2020-11-16 월요일"
   ]
  },
  {
   "cell_type": "code",
   "execution_count": 1,
   "metadata": {},
   "outputs": [],
   "source": [
    "import warnings\n",
    "warnings.filterwarnings('ignore')"
   ]
  },
  {
   "cell_type": "code",
   "execution_count": 2,
   "metadata": {},
   "outputs": [],
   "source": [
    "from selenium import webdriver\n",
    "from bs4 import BeautifulSoup\n",
    "from tqdm import tqdm_notebook\n",
    "\n",
    "import time\n",
    "import pandas as pd\n",
    "import numpy as np\n"
   ]
  },
  {
   "cell_type": "markdown",
   "metadata": {},
   "source": [
    "## 1. Selenium으로 인스타홈페이지 접속"
   ]
  },
  {
   "cell_type": "code",
   "execution_count": 3,
   "metadata": {},
   "outputs": [],
   "source": [
    "path='./chrome_Driver/chromedriver.exe'\n",
    "driver = webdriver.Chrome(path)\n",
    "driver.get(\"http://instagram.com\")\n",
    "\n",
    "time.sleep(5)"
   ]
  },
  {
   "cell_type": "markdown",
   "metadata": {},
   "source": [
    "## 2. Selenium으로 인스타아이디 로그인"
   ]
  },
  {
   "cell_type": "code",
   "execution_count": 4,
   "metadata": {},
   "outputs": [],
   "source": [
    "## 로그인\n",
    "id_input_temp, pwd_input_temp = tuple(driver.find_elements_by_css_selector('div.gr27e > div.EPjEi > form.HmktE > div > div.-MzZI'))\n",
    "\n",
    "id_input  = id_input_temp.find_element_by_css_selector('div > label')\n",
    "pwd_input = pwd_input_temp.find_element_by_css_selector('div > label')\n",
    "\n",
    "id_input.send_keys('rnrmfduqns2@gmail.com')   # 당신의 인스타아이디를 입력하세요\n",
    "pwd_input.send_keys('zmfhfflddyd')       # 당신의 인스타비밀번호를 입력하세요\n",
    "\n",
    "pwd_input.submit()\n",
    "\n",
    "time.sleep(5)"
   ]
  },
  {
   "cell_type": "markdown",
   "metadata": {},
   "source": [
    "## 3. 크롤링 하고자 하는 유명인의 아이디 찾고 홈페이지 띄우기"
   ]
  },
  {
   "cell_type": "code",
   "execution_count": 5,
   "metadata": {},
   "outputs": [],
   "source": [
    "# 셀럽아이디입력\n",
    "\n",
    "find_id = driver.find_element_by_css_selector('nav > div._8MQSO > div > div > div.LWmhU > input')\n",
    "find_id.send_keys('subusunews')  # 크롤링 하고자하는 유명인의 \"인스타 아이디\"를 입력해주세요\n",
    "time.sleep(5)\n",
    "\n",
    "# 셀럽아이디입력하고 홈페이지 띠우기\n",
    "for_click = driver.find_element_by_css_selector('nav > div._8MQSO > div > div > div.LWmhU > div.drKGC > div > a')\n",
    "for_click.click()\n",
    "time.sleep(5)"
   ]
  },
  {
   "cell_type": "markdown",
   "metadata": {},
   "source": [
    "## 4. 게시물 크롤링"
   ]
  },
  {
   "cell_type": "code",
   "execution_count": null,
   "metadata": {},
   "outputs": [
    {
     "data": {
      "application/vnd.jupyter.widget-view+json": {
       "model_id": "64bbce2ef8bf48ac99fee539bb4a0e56",
       "version_major": 2,
       "version_minor": 0
      },
      "text/plain": [
       "HBox(children=(FloatProgress(value=0.0, max=8.0), HTML(value='')))"
      ]
     },
     "metadata": {},
     "output_type": "display_data"
    },
    {
     "data": {
      "application/vnd.jupyter.widget-view+json": {
       "model_id": "75e41397d0ea4ea8981a3bb0698deadf",
       "version_major": 2,
       "version_minor": 0
      },
      "text/plain": [
       "HBox(children=(FloatProgress(value=0.0, max=3.0), HTML(value='')))"
      ]
     },
     "metadata": {},
     "output_type": "display_data"
    },
    {
     "name": "stdout",
     "output_type": "stream",
     "text": [
      "댓글 페이지를 최대로 확장하였습니다\n",
      "현재까지 긁어온 댓글의 수 : 55\n",
      "댓글 페이지를 최대로 확장하였습니다\n",
      "현재까지 긁어온 댓글의 수 : 155\n",
      "댓글 페이지를 최대로 확장하였습니다\n",
      "현재까지 긁어온 댓글의 수 : 261\n",
      "\n"
     ]
    },
    {
     "data": {
      "application/vnd.jupyter.widget-view+json": {
       "model_id": "9fc7fdb4eaf1447485980ccec55e936e",
       "version_major": 2,
       "version_minor": 0
      },
      "text/plain": [
       "HBox(children=(FloatProgress(value=0.0, max=3.0), HTML(value='')))"
      ]
     },
     "metadata": {},
     "output_type": "display_data"
    },
    {
     "name": "stdout",
     "output_type": "stream",
     "text": [
      "댓글 페이지를 최대로 확장하였습니다\n",
      "현재까지 긁어온 댓글의 수 : 328\n",
      "댓글 페이지를 최대로 확장하였습니다\n",
      "현재까지 긁어온 댓글의 수 : 347\n",
      "댓글 페이지를 최대로 확장하였습니다\n",
      "현재까지 긁어온 댓글의 수 : 392\n",
      "\n"
     ]
    },
    {
     "data": {
      "application/vnd.jupyter.widget-view+json": {
       "model_id": "3e15a8fe35ea4224933f64d438b2f914",
       "version_major": 2,
       "version_minor": 0
      },
      "text/plain": [
       "HBox(children=(FloatProgress(value=0.0, max=3.0), HTML(value='')))"
      ]
     },
     "metadata": {},
     "output_type": "display_data"
    },
    {
     "name": "stdout",
     "output_type": "stream",
     "text": [
      "댓글 페이지를 최대로 확장하였습니다\n",
      "현재까지 긁어온 댓글의 수 : 1326\n",
      "댓글 페이지를 최대로 확장하였습니다\n",
      "현재까지 긁어온 댓글의 수 : 1677\n",
      "댓글 페이지를 최대로 확장하였습니다\n",
      "현재까지 긁어온 댓글의 수 : 2332\n",
      "\n"
     ]
    },
    {
     "data": {
      "application/vnd.jupyter.widget-view+json": {
       "model_id": "233ca51aa844424ca49fab5e78a520cf",
       "version_major": 2,
       "version_minor": 0
      },
      "text/plain": [
       "HBox(children=(FloatProgress(value=0.0, max=3.0), HTML(value='')))"
      ]
     },
     "metadata": {},
     "output_type": "display_data"
    },
    {
     "name": "stdout",
     "output_type": "stream",
     "text": [
      "댓글 페이지를 최대로 확장하였습니다\n",
      "현재까지 긁어온 댓글의 수 : 2827\n",
      "댓글 페이지를 최대로 확장하였습니다\n",
      "현재까지 긁어온 댓글의 수 : 3316\n",
      "댓글 페이지를 최대로 확장하였습니다\n",
      "현재까지 긁어온 댓글의 수 : 3408\n",
      "\n"
     ]
    },
    {
     "data": {
      "application/vnd.jupyter.widget-view+json": {
       "model_id": "c33dfec2c0fe47e0a6413885e26aab33",
       "version_major": 2,
       "version_minor": 0
      },
      "text/plain": [
       "HBox(children=(FloatProgress(value=0.0, max=3.0), HTML(value='')))"
      ]
     },
     "metadata": {},
     "output_type": "display_data"
    },
    {
     "name": "stdout",
     "output_type": "stream",
     "text": [
      "댓글 페이지를 최대로 확장하였습니다\n",
      "현재까지 긁어온 댓글의 수 : 3427\n",
      "댓글 페이지를 최대로 확장하였습니다\n",
      "현재까지 긁어온 댓글의 수 : 3433\n",
      "댓글 페이지를 최대로 확장하였습니다\n",
      "현재까지 긁어온 댓글의 수 : 3451\n",
      "\n"
     ]
    },
    {
     "data": {
      "application/vnd.jupyter.widget-view+json": {
       "model_id": "ae4d3b3c3d9543c58bd797d9fa0e9373",
       "version_major": 2,
       "version_minor": 0
      },
      "text/plain": [
       "HBox(children=(FloatProgress(value=0.0, max=3.0), HTML(value='')))"
      ]
     },
     "metadata": {},
     "output_type": "display_data"
    },
    {
     "name": "stdout",
     "output_type": "stream",
     "text": [
      "댓글 페이지를 최대로 확장하였습니다\n",
      "현재까지 긁어온 댓글의 수 : 3583\n",
      "댓글 페이지를 최대로 확장하였습니다\n",
      "현재까지 긁어온 댓글의 수 : 3690\n",
      "댓글 페이지를 최대로 확장하였습니다\n",
      "현재까지 긁어온 댓글의 수 : 3721\n",
      "\n"
     ]
    },
    {
     "data": {
      "application/vnd.jupyter.widget-view+json": {
       "model_id": "893c7ac97210436a9f608fd749865834",
       "version_major": 2,
       "version_minor": 0
      },
      "text/plain": [
       "HBox(children=(FloatProgress(value=0.0, max=3.0), HTML(value='')))"
      ]
     },
     "metadata": {},
     "output_type": "display_data"
    },
    {
     "name": "stdout",
     "output_type": "stream",
     "text": [
      "댓글 페이지를 최대로 확장하였습니다\n",
      "현재까지 긁어온 댓글의 수 : 3747\n",
      "댓글 페이지를 최대로 확장하였습니다\n",
      "현재까지 긁어온 댓글의 수 : 4007\n"
     ]
    }
   ],
   "source": [
    "insta_list = driver.find_element_by_css_selector('body > div > section._9eogI > main.SCxLW > div > div._2z6nI > article.ySN3v > div > div')\n",
    "big_list = insta_list.find_elements_by_css_selector('div.Nnq7C')\n",
    "\n",
    "comment_list = []\n",
    "\n",
    "for small_list in tqdm_notebook(big_list):\n",
    "    for_click_list = small_list.find_elements_by_css_selector('div.v1Nh3 > a')\n",
    "    \n",
    "    for element in tqdm_notebook(for_click_list):\n",
    "        \n",
    "        # 개시물 오픈\n",
    "        element.send_keys('\\n')\n",
    "        time.sleep(5)\n",
    "        \n",
    "        # 댓글란 최대한 열기\n",
    "        while 1:\n",
    "            try:\n",
    "                expansion_comment = driver.find_element_by_css_selector('button.dCJp8')\n",
    "                expansion_comment.send_keys('\\n')\n",
    "                time.sleep(5)\n",
    "            except :\n",
    "                print('댓글 페이지를 최대로 확장하였습니다')\n",
    "                break\n",
    "        \n",
    "        \n",
    "        # 게시글 크롤링\n",
    "        comment_body_list = driver.find_elements_by_css_selector('body > div._2dDPU > div.zZYga > div.PdwC2 > article > div.eo2As > div.EtaWk > ul.XQXOT > ul.Mr508')\n",
    "        n = len(comment_body_list)\n",
    "        \n",
    "        for idx in range(n):\n",
    "            comment = comment_body_list[idx].find_element_by_css_selector('div > li > div > div.C7I1f > div.C4VMK > span')\n",
    "            comment_list.append(comment.text)\n",
    "        print('현재까지 긁어온 댓글의 수 :', len(comment_list))\n",
    "        \n",
    "        \n",
    "        # 게시물 닫기\n",
    "        close_bnt = driver.find_element_by_css_selector('body > div._2dDPU > div.Igw0E > button')\n",
    "        close_bnt.send_keys('\\n')\n",
    "        \n",
    "    time.sleep(5)\n",
    "\n",
    "        "
   ]
  },
  {
   "cell_type": "markdown",
   "metadata": {},
   "source": [
    "## 5. 크롤링한 댓글 데이터프레임화 하고 csv파일로 만들기"
   ]
  },
  {
   "cell_type": "code",
   "execution_count": null,
   "metadata": {},
   "outputs": [],
   "source": [
    "comment_list = pd.unique(comment_list)\n",
    "\n",
    "\n",
    "print(len(comment_list))\n",
    "\n",
    "data = pd.DataFrame({'댓글' : comment_list})\n",
    "    \n",
    "data.head()"
   ]
  },
  {
   "cell_type": "code",
   "execution_count": null,
   "metadata": {},
   "outputs": [],
   "source": [
    "data.to_csv('./크롤링한 댓글 데이터/subusunews.csv', encoding='utf-8-sig')"
   ]
  }
 ],
 "metadata": {
  "kernelspec": {
   "display_name": "Python 3",
   "language": "python",
   "name": "python3"
  },
  "language_info": {
   "codemirror_mode": {
    "name": "ipython",
    "version": 3
   },
   "file_extension": ".py",
   "mimetype": "text/x-python",
   "name": "python",
   "nbconvert_exporter": "python",
   "pygments_lexer": "ipython3",
   "version": "3.8.3"
  }
 },
 "nbformat": 4,
 "nbformat_minor": 4
}
