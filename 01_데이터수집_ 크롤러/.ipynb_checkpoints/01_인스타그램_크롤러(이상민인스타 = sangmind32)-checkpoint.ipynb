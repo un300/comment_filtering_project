{
 "cells": [
  {
   "cell_type": "markdown",
   "metadata": {},
   "source": [
    "###### 2020-11-12 목요일"
   ]
  },
  {
   "cell_type": "code",
   "execution_count": 1,
   "metadata": {},
   "outputs": [],
   "source": [
    "import warnings\n",
    "warnings.filterwarnings('ignore')"
   ]
  },
  {
   "cell_type": "code",
   "execution_count": 12,
   "metadata": {},
   "outputs": [],
   "source": [
    "from selenium import webdriver\n",
    "from bs4 import BeautifulSoup\n",
    "from tqdm import tqdm_notebook\n",
    "\n",
    "import time\n",
    "import pandas as pd\n",
    "import numpy as np\n"
   ]
  },
  {
   "cell_type": "markdown",
   "metadata": {},
   "source": [
    "## 1. Selenium으로 인스타홈페이지 접속"
   ]
  },
  {
   "cell_type": "code",
   "execution_count": 3,
   "metadata": {},
   "outputs": [],
   "source": [
    "path='./chrome_Driver/chromedriver.exe'\n",
    "driver = webdriver.Chrome(path)\n",
    "driver.get(\"https://instagram.com\")\n",
    "\n",
    "time.sleep(5)"
   ]
  },
  {
   "cell_type": "markdown",
   "metadata": {},
   "source": [
    "## 2. Selenium으로 인스타아이디 로그인"
   ]
  },
  {
   "cell_type": "code",
   "execution_count": 4,
   "metadata": {},
   "outputs": [],
   "source": [
    "## 로그인\n",
    "id_input_temp, pwd_input_temp = tuple(driver.find_elements_by_css_selector('div.gr27e > div.EPjEi > form.HmktE > div > div.-MzZI'))\n",
    "\n",
    "id_input  = id_input_temp.find_element_by_css_selector('div > label')\n",
    "pwd_input = pwd_input_temp.find_element_by_css_selector('div > label')\n",
    "\n",
    "id_input.send_keys('')   # 당신의 인스타아이디를 입력하세요\n",
    "pwd_input.send_keys('')       # 당신의 인스타비밀번호를 입력하세요\n",
    "\n",
    "pwd_input.submit()\n",
    "\n",
    "time.sleep(5)"
   ]
  },
  {
   "cell_type": "markdown",
   "metadata": {},
   "source": [
    "## 3. 크롤링 하고자 하는 유명인의 아이디 찾고 홈페이지 띄우기"
   ]
  },
  {
   "cell_type": "code",
   "execution_count": 5,
   "metadata": {},
   "outputs": [],
   "source": [
    "# 셀럽아이디입력\n",
    "\n",
    "find_id = driver.find_element_by_css_selector('nav > div._8MQSO > div > div > div.LWmhU > input')\n",
    "find_id.send_keys('')  # 크롤링 하고자하는 유명인의 \"인스타 아이디\"를 입력해주세요\n",
    "time.sleep(5)\n",
    "\n",
    "# 셀럽아이디입력하고 홈페이지 띠우기\n",
    "for_click = driver.find_element_by_css_selector('nav > div._8MQSO > div > div > div.LWmhU > div.drKGC > div > a')\n",
    "for_click.click()\n",
    "time.sleep(5)"
   ]
  },
  {
   "cell_type": "markdown",
   "metadata": {},
   "source": [
    "## 4. 게시물 크롤링"
   ]
  },
  {
   "cell_type": "code",
   "execution_count": 6,
   "metadata": {},
   "outputs": [
    {
     "data": {
      "application/vnd.jupyter.widget-view+json": {
       "model_id": "96d3a77c7bc242c8abdbba6d906b9fc9",
       "version_major": 2,
       "version_minor": 0
      },
      "text/plain": [
       "HBox(children=(HTML(value=''), FloatProgress(value=0.0, max=8.0), HTML(value='')))"
      ]
     },
     "metadata": {},
     "output_type": "display_data"
    },
    {
     "data": {
      "application/vnd.jupyter.widget-view+json": {
       "model_id": "ca43fe7bf49f40fd9c7ab8411adf91b6",
       "version_major": 2,
       "version_minor": 0
      },
      "text/plain": [
       "HBox(children=(HTML(value=''), FloatProgress(value=0.0, max=3.0), HTML(value='')))"
      ]
     },
     "metadata": {},
     "output_type": "display_data"
    },
    {
     "name": "stdout",
     "output_type": "stream",
     "text": [
      "댓글 페이지를 최대로 확장하였습니다\n",
      "44\n",
      "댓글 페이지를 최대로 확장하였습니다\n",
      "124\n",
      "댓글 페이지를 최대로 확장하였습니다\n",
      "144\n",
      "\n"
     ]
    },
    {
     "data": {
      "application/vnd.jupyter.widget-view+json": {
       "model_id": "54fced14601944d5a90236a4314a1467",
       "version_major": 2,
       "version_minor": 0
      },
      "text/plain": [
       "HBox(children=(HTML(value=''), FloatProgress(value=0.0, max=3.0), HTML(value='')))"
      ]
     },
     "metadata": {},
     "output_type": "display_data"
    },
    {
     "name": "stdout",
     "output_type": "stream",
     "text": [
      "댓글 페이지를 최대로 확장하였습니다\n",
      "288\n",
      "댓글 페이지를 최대로 확장하였습니다\n",
      "393\n",
      "댓글 페이지를 최대로 확장하였습니다\n",
      "427\n",
      "\n"
     ]
    },
    {
     "data": {
      "application/vnd.jupyter.widget-view+json": {
       "model_id": "337fec0582244800b815984c86793599",
       "version_major": 2,
       "version_minor": 0
      },
      "text/plain": [
       "HBox(children=(HTML(value=''), FloatProgress(value=0.0, max=3.0), HTML(value='')))"
      ]
     },
     "metadata": {},
     "output_type": "display_data"
    },
    {
     "name": "stdout",
     "output_type": "stream",
     "text": [
      "댓글 페이지를 최대로 확장하였습니다\n",
      "463\n",
      "댓글 페이지를 최대로 확장하였습니다\n",
      "491\n",
      "댓글 페이지를 최대로 확장하였습니다\n",
      "560\n",
      "\n"
     ]
    },
    {
     "data": {
      "application/vnd.jupyter.widget-view+json": {
       "model_id": "716b5af98b6b4697b72a2483627c75c7",
       "version_major": 2,
       "version_minor": 0
      },
      "text/plain": [
       "HBox(children=(HTML(value=''), FloatProgress(value=0.0, max=3.0), HTML(value='')))"
      ]
     },
     "metadata": {},
     "output_type": "display_data"
    },
    {
     "name": "stdout",
     "output_type": "stream",
     "text": [
      "댓글 페이지를 최대로 확장하였습니다\n",
      "603\n",
      "댓글 페이지를 최대로 확장하였습니다\n",
      "632\n",
      "댓글 페이지를 최대로 확장하였습니다\n",
      "644\n",
      "\n"
     ]
    },
    {
     "data": {
      "application/vnd.jupyter.widget-view+json": {
       "model_id": "b1d79f79f41049cbbd94708deaebda37",
       "version_major": 2,
       "version_minor": 0
      },
      "text/plain": [
       "HBox(children=(HTML(value=''), FloatProgress(value=0.0, max=3.0), HTML(value='')))"
      ]
     },
     "metadata": {},
     "output_type": "display_data"
    },
    {
     "name": "stdout",
     "output_type": "stream",
     "text": [
      "댓글 페이지를 최대로 확장하였습니다\n",
      "683\n",
      "댓글 페이지를 최대로 확장하였습니다\n",
      "693\n",
      "댓글 페이지를 최대로 확장하였습니다\n",
      "713\n",
      "\n"
     ]
    },
    {
     "data": {
      "application/vnd.jupyter.widget-view+json": {
       "model_id": "66d4a9b51f984ccab04b6619a46d13db",
       "version_major": 2,
       "version_minor": 0
      },
      "text/plain": [
       "HBox(children=(HTML(value=''), FloatProgress(value=0.0, max=3.0), HTML(value='')))"
      ]
     },
     "metadata": {},
     "output_type": "display_data"
    },
    {
     "name": "stdout",
     "output_type": "stream",
     "text": [
      "댓글 페이지를 최대로 확장하였습니다\n",
      "722\n",
      "댓글 페이지를 최대로 확장하였습니다\n",
      "731\n",
      "댓글 페이지를 최대로 확장하였습니다\n",
      "754\n",
      "\n"
     ]
    },
    {
     "data": {
      "application/vnd.jupyter.widget-view+json": {
       "model_id": "7f0ff76804554f658d7f968c1741322e",
       "version_major": 2,
       "version_minor": 0
      },
      "text/plain": [
       "HBox(children=(HTML(value=''), FloatProgress(value=0.0, max=3.0), HTML(value='')))"
      ]
     },
     "metadata": {},
     "output_type": "display_data"
    },
    {
     "name": "stdout",
     "output_type": "stream",
     "text": [
      "댓글 페이지를 최대로 확장하였습니다\n",
      "794\n",
      "댓글 페이지를 최대로 확장하였습니다\n",
      "807\n",
      "댓글 페이지를 최대로 확장하였습니다\n",
      "828\n",
      "\n"
     ]
    },
    {
     "data": {
      "application/vnd.jupyter.widget-view+json": {
       "model_id": "c33f3ff7609242b6b7b61b015f8f7692",
       "version_major": 2,
       "version_minor": 0
      },
      "text/plain": [
       "HBox(children=(HTML(value=''), FloatProgress(value=0.0, max=3.0), HTML(value='')))"
      ]
     },
     "metadata": {},
     "output_type": "display_data"
    },
    {
     "name": "stdout",
     "output_type": "stream",
     "text": [
      "댓글 페이지를 최대로 확장하였습니다\n",
      "875\n",
      "댓글 페이지를 최대로 확장하였습니다\n",
      "899\n",
      "댓글 페이지를 최대로 확장하였습니다\n",
      "911\n",
      "\n",
      "\n"
     ]
    }
   ],
   "source": [
    "insta_list = driver.find_element_by_css_selector('body > div > section._9eogI > main.SCxLW > div > div._2z6nI > article.ySN3v > div > div')\n",
    "big_list = insta_list.find_elements_by_css_selector('div.Nnq7C')\n",
    "\n",
    "comment_list = []\n",
    "\n",
    "for small_list in tqdm_notebook(big_list):\n",
    "    for_click_list = small_list.find_elements_by_css_selector('div.v1Nh3 > a')\n",
    "    \n",
    "    for element in tqdm_notebook(for_click_list):\n",
    "        \n",
    "        # 개시물 오픈\n",
    "        element.click()\n",
    "        time.sleep(5)\n",
    "        \n",
    "        # 댓글란 최대한 열기\n",
    "        while(1):\n",
    "            try:\n",
    "                expansion_comment = driver.find_element_by_css_selector('button.dCJp8')\n",
    "                expansion_comment.click()\n",
    "                time.sleep(2)\n",
    "            except :\n",
    "                print('댓글 페이지를 최대로 확장하였습니다')\n",
    "                break\n",
    "        \n",
    "        \n",
    "        # 게시글 크롤링\n",
    "        comment_body_list = driver.find_elements_by_css_selector('body > div._2dDPU > div.zZYga > div.PdwC2 > article > div.eo2As > div.EtaWk > ul.XQXOT > ul.Mr508')\n",
    "        for comment_body in comment_body_list:\n",
    "            comment = comment_body.find_element_by_css_selector('div > li > div > div.C7I1f > div.C4VMK > span')\n",
    "            comment_list.append(comment.text)\n",
    "        print('현재까지 긁어온 댓글의 수 :', len(comment_list))\n",
    "        \n",
    "        \n",
    "        # 게시물 닫기\n",
    "        close_bnt = driver.find_element_by_css_selector('body > div._2dDPU > div.Igw0E > button')\n",
    "        close_bnt.click()\n",
    "        \n",
    "    time.sleep(5)\n",
    "\n",
    "        "
   ]
  },
  {
   "cell_type": "markdown",
   "metadata": {},
   "source": [
    "## 5. 크롤링한 댓글 데이터프레임화 하고 csv파일로 만들기"
   ]
  },
  {
   "cell_type": "code",
   "execution_count": 14,
   "metadata": {},
   "outputs": [
    {
     "data": {
      "text/html": [
       "<div>\n",
       "<style scoped>\n",
       "    .dataframe tbody tr th:only-of-type {\n",
       "        vertical-align: middle;\n",
       "    }\n",
       "\n",
       "    .dataframe tbody tr th {\n",
       "        vertical-align: top;\n",
       "    }\n",
       "\n",
       "    .dataframe thead th {\n",
       "        text-align: right;\n",
       "    }\n",
       "</style>\n",
       "<table border=\"1\" class=\"dataframe\">\n",
       "  <thead>\n",
       "    <tr style=\"text-align: right;\">\n",
       "      <th></th>\n",
       "      <th>댓글</th>\n",
       "    </tr>\n",
       "  </thead>\n",
       "  <tbody>\n",
       "    <tr>\n",
       "      <th>0</th>\n",
       "      <td>고생하셨습니다 꿀잠주무셔용~~😴❤️❤️❤️</td>\n",
       "    </tr>\n",
       "    <tr>\n",
       "      <th>1</th>\n",
       "      <td>이때 오빠 헤어스타일보고 한번 더 반했었는데🙈🙈 오빠도 안녕히주무세요😴♥♥♥</td>\n",
       "    </tr>\n",
       "    <tr>\n",
       "      <th>2</th>\n",
       "      <td>추억돋아요^_____^ 아직 미팅중이지만~~ 잘 마무리하고 따라 잘게요^^ 먼저 주...</td>\n",
       "    </tr>\n",
       "    <tr>\n",
       "      <th>3</th>\n",
       "      <td>🔥🔥🔥</td>\n",
       "    </tr>\n",
       "    <tr>\n",
       "      <th>4</th>\n",
       "      <td>You are the best 👍</td>\n",
       "    </tr>\n",
       "  </tbody>\n",
       "</table>\n",
       "</div>"
      ],
      "text/plain": [
       "                                                  댓글\n",
       "0                            고생하셨습니다 꿀잠주무셔용~~😴❤️❤️❤️\n",
       "1         이때 오빠 헤어스타일보고 한번 더 반했었는데🙈🙈 오빠도 안녕히주무세요😴♥♥♥\n",
       "2  추억돋아요^_____^ 아직 미팅중이지만~~ 잘 마무리하고 따라 잘게요^^ 먼저 주...\n",
       "3                                                🔥🔥🔥\n",
       "4                                 You are the best 👍"
      ]
     },
     "execution_count": 14,
     "metadata": {},
     "output_type": "execute_result"
    }
   ],
   "source": [
    "data = pd.DataFrame({'댓글' : comment_list})\n",
    "\n",
    "data.head()"
   ]
  },
  {
   "cell_type": "code",
   "execution_count": 17,
   "metadata": {},
   "outputs": [],
   "source": [
    "data.to_csv('./크롤링한 댓글 데이터/이상민.csv')"
   ]
  }
 ],
 "metadata": {
  "kernelspec": {
   "display_name": "Python 3",
   "language": "python",
   "name": "python3"
  },
  "language_info": {
   "codemirror_mode": {
    "name": "ipython",
    "version": 3
   },
   "file_extension": ".py",
   "mimetype": "text/x-python",
   "name": "python",
   "nbconvert_exporter": "python",
   "pygments_lexer": "ipython3",
   "version": "3.7.9"
  }
 },
 "nbformat": 4,
 "nbformat_minor": 4
}
