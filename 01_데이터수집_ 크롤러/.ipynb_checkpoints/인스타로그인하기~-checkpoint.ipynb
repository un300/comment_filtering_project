{
 "cells": [
  {
   "cell_type": "code",
   "execution_count": null,
   "metadata": {},
   "outputs": [],
   "source": [
    "import warnings\n",
    "warnings.filterwarnings('ignore')"
   ]
  },
  {
   "cell_type": "code",
   "execution_count": null,
   "metadata": {},
   "outputs": [],
   "source": [
    "from selenium import webdriver\n",
    "from bs4 import BeautifulSoup\n",
    "from tqdm import tqdm_notebook\n",
    "\n",
    "import time\n",
    "import pandas as pd\n",
    "import numpy as pd"
   ]
  },
  {
   "cell_type": "code",
   "execution_count": null,
   "metadata": {},
   "outputs": [],
   "source": [
    "path='./chrome_Driver/chromedriver.exe'\n",
    "driver = webdriver.Chrome(path)\n",
    "driver.get(\"https://instagram.com\")\n",
    "\n",
    "time.sleep(5)"
   ]
  },
  {
   "cell_type": "code",
   "execution_count": null,
   "metadata": {},
   "outputs": [],
   "source": [
    "## 로그인\n",
    "id_input_temp, pwd_input_temp = tuple(driver.find_elements_by_css_selector('div.gr27e > div.EPjEi > form.HmktE > div > div.-MzZI'))\n",
    "\n",
    "id_input  = id_input_temp.find_element_by_css_selector('div > label')\n",
    "pwd_input = pwd_input_temp.find_element_by_css_selector('div > label')\n",
    "\n",
    "id_input.send_keys('')  # 너의 인스타 아이디 입력\n",
    "pwd_input.send_keys('') # 너의 인스타 비밀번호 입력\n",
    "\n",
    "pwd_input.submit()\n",
    "\n",
    "time.sleep(5)"
   ]
  },
  {
   "cell_type": "code",
   "execution_count": null,
   "metadata": {},
   "outputs": [],
   "source": [
    "# 셀럽찾기\n",
    "\n",
    "find_id = driver.find_element_by_css_selector('nav > div._8MQSO > div > div > div.LWmhU > input')\n",
    "find_id.send_keys('') # 크롤링 하고자 하는 셀럽의 계정의 인스타아이디를 입력\n",
    "\n",
    "time.sleep(5)\n",
    "\n",
    "for_click = driver.find_element_by_css_selector('nav > div._8MQSO > div > div > div.LWmhU > div.drKGC > div > a')\n",
    "for_click.click()\n",
    "\n",
    "time.sleep(5)"
   ]
  },
  {
   "cell_type": "markdown",
   "metadata": {},
   "source": [
    " #### 이까지 과정을 정리하면..\n",
    " 1. Selenium으로 인스타 홈페이지 접속\n",
    " 2. Selenium으로 인스타 로그인\n",
    " 3. Selenium으로 인스타 셀럽 홈페이지 접속"
   ]
  }
 ],
 "metadata": {
  "kernelspec": {
   "display_name": "Python 3",
   "language": "python",
   "name": "python3"
  },
  "language_info": {
   "codemirror_mode": {
    "name": "ipython",
    "version": 3
   },
   "file_extension": ".py",
   "mimetype": "text/x-python",
   "name": "python",
   "nbconvert_exporter": "python",
   "pygments_lexer": "ipython3",
   "version": "3.7.9"
  }
 },
 "nbformat": 4,
 "nbformat_minor": 4
}
