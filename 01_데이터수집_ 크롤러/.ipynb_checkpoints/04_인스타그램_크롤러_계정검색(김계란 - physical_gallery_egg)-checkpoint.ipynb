{
 "cells": [
  {
   "cell_type": "markdown",
   "metadata": {},
   "source": [
    "###### 2020-11-13 금요일"
   ]
  },
  {
   "cell_type": "code",
   "execution_count": 1,
   "metadata": {},
   "outputs": [],
   "source": [
    "import warnings\n",
    "warnings.filterwarnings('ignore')"
   ]
  },
  {
   "cell_type": "code",
   "execution_count": 2,
   "metadata": {},
   "outputs": [],
   "source": [
    "from selenium import webdriver\n",
    "from bs4 import BeautifulSoup\n",
    "from tqdm import tqdm_notebook\n",
    "\n",
    "import time\n",
    "import pandas as pd\n",
    "import numpy as np\n"
   ]
  },
  {
   "cell_type": "markdown",
   "metadata": {},
   "source": [
    "## 1. Selenium으로 인스타홈페이지 접속"
   ]
  },
  {
   "cell_type": "code",
   "execution_count": 3,
   "metadata": {},
   "outputs": [],
   "source": [
    "path='./chrome_Driver/chromedriver.exe'\n",
    "driver = webdriver.Chrome(path)\n",
    "driver.get(\"http://instagram.com\")\n",
    "\n",
    "time.sleep(5)"
   ]
  },
  {
   "cell_type": "markdown",
   "metadata": {},
   "source": [
    "## 2. Selenium으로 인스타아이디 로그인"
   ]
  },
  {
   "cell_type": "code",
   "execution_count": 4,
   "metadata": {},
   "outputs": [],
   "source": [
    "## 로그인\n",
    "id_input_temp, pwd_input_temp = tuple(driver.find_elements_by_css_selector('div.gr27e > div.EPjEi > form.HmktE > div > div.-MzZI'))\n",
    "\n",
    "id_input  = id_input_temp.find_element_by_css_selector('div > label')\n",
    "pwd_input = pwd_input_temp.find_element_by_css_selector('div > label')\n",
    "\n",
    "id_input.send_keys('rnrmfduqns1@gmail.com')   # 당신의 인스타아이디를 입력하세요\n",
    "pwd_input.send_keys('zmfhfflddyddlqslek')       # 당신의 인스타비밀번호를 입력하세요\n",
    "\n",
    "pwd_input.submit()\n",
    "\n",
    "time.sleep(5)"
   ]
  },
  {
   "cell_type": "markdown",
   "metadata": {},
   "source": [
    "## 3. 크롤링 하고자 하는 유명인의 아이디 찾고 홈페이지 띄우기"
   ]
  },
  {
   "cell_type": "code",
   "execution_count": 5,
   "metadata": {},
   "outputs": [],
   "source": [
    "# 셀럽아이디입력\n",
    "\n",
    "find_id = driver.find_element_by_css_selector('nav > div._8MQSO > div > div > div.LWmhU > input')\n",
    "find_id.send_keys('physical_gallery_egg')  # 크롤링 하고자하는 유명인의 \"인스타 아이디\"를 입력해주세요\n",
    "time.sleep(5)\n",
    "\n",
    "# 셀럽아이디입력하고 홈페이지 띠우기\n",
    "for_click = driver.find_element_by_css_selector('nav > div._8MQSO > div > div > div.LWmhU > div.drKGC > div > a')\n",
    "for_click.click()\n",
    "time.sleep(5)"
   ]
  },
  {
   "cell_type": "markdown",
   "metadata": {},
   "source": [
    "## 4. 게시물 크롤링"
   ]
  },
  {
   "cell_type": "code",
   "execution_count": 6,
   "metadata": {},
   "outputs": [
    {
     "name": "stderr",
     "output_type": "stream",
     "text": [
      "C:\\Users\\lan41\\Anaconda3\\lib\\site-packages\\ipykernel_launcher.py:6: TqdmDeprecationWarning: This function will be removed in tqdm==5.0.0\n",
      "Please use `tqdm.notebook.tqdm` instead of `tqdm.tqdm_notebook`\n",
      "  \n"
     ]
    },
    {
     "data": {
      "application/vnd.jupyter.widget-view+json": {
       "model_id": "59f695aeeeaa42f3af06348b66c2fef9",
       "version_major": 2,
       "version_minor": 0
      },
      "text/plain": [
       "HBox(children=(HTML(value=''), FloatProgress(value=0.0, max=8.0), HTML(value='')))"
      ]
     },
     "metadata": {},
     "output_type": "display_data"
    },
    {
     "name": "stderr",
     "output_type": "stream",
     "text": [
      "C:\\Users\\lan41\\Anaconda3\\lib\\site-packages\\ipykernel_launcher.py:9: TqdmDeprecationWarning: This function will be removed in tqdm==5.0.0\n",
      "Please use `tqdm.notebook.tqdm` instead of `tqdm.tqdm_notebook`\n",
      "  if __name__ == '__main__':\n"
     ]
    },
    {
     "data": {
      "application/vnd.jupyter.widget-view+json": {
       "model_id": "d504e38cb35e4bd18cc7f54779c13f7d",
       "version_major": 2,
       "version_minor": 0
      },
      "text/plain": [
       "HBox(children=(HTML(value=''), FloatProgress(value=0.0, max=3.0), HTML(value='')))"
      ]
     },
     "metadata": {},
     "output_type": "display_data"
    },
    {
     "name": "stdout",
     "output_type": "stream",
     "text": [
      "댓글 페이지를 최대로 확장하였습니다\n",
      "현재까지 긁어온 댓글의 수 : 288\n",
      "댓글 페이지를 최대로 확장하였습니다\n",
      "현재까지 긁어온 댓글의 수 : 721\n",
      "댓글 페이지를 최대로 확장하였습니다\n",
      "현재까지 긁어온 댓글의 수 : 887\n",
      "\n"
     ]
    },
    {
     "data": {
      "application/vnd.jupyter.widget-view+json": {
       "model_id": "afc1c66b18244d76bf41ed0b925251ee",
       "version_major": 2,
       "version_minor": 0
      },
      "text/plain": [
       "HBox(children=(HTML(value=''), FloatProgress(value=0.0, max=3.0), HTML(value='')))"
      ]
     },
     "metadata": {},
     "output_type": "display_data"
    },
    {
     "name": "stdout",
     "output_type": "stream",
     "text": [
      "댓글 페이지를 최대로 확장하였습니다\n",
      "현재까지 긁어온 댓글의 수 : 1049\n",
      "댓글 페이지를 최대로 확장하였습니다\n",
      "현재까지 긁어온 댓글의 수 : 1646\n",
      "댓글 페이지를 최대로 확장하였습니다\n",
      "현재까지 긁어온 댓글의 수 : 2493\n",
      "\n"
     ]
    },
    {
     "data": {
      "application/vnd.jupyter.widget-view+json": {
       "model_id": "f59fb5702bda4bf981ab488e9529d0a0",
       "version_major": 2,
       "version_minor": 0
      },
      "text/plain": [
       "HBox(children=(HTML(value=''), FloatProgress(value=0.0, max=3.0), HTML(value='')))"
      ]
     },
     "metadata": {},
     "output_type": "display_data"
    },
    {
     "name": "stdout",
     "output_type": "stream",
     "text": [
      "댓글 페이지를 최대로 확장하였습니다\n",
      "현재까지 긁어온 댓글의 수 : 2861\n",
      "댓글 페이지를 최대로 확장하였습니다\n",
      "현재까지 긁어온 댓글의 수 : 3075\n",
      "댓글 페이지를 최대로 확장하였습니다\n",
      "현재까지 긁어온 댓글의 수 : 3664\n",
      "\n"
     ]
    },
    {
     "data": {
      "application/vnd.jupyter.widget-view+json": {
       "model_id": "e41d539864a74e7d98a9ca03973c54cc",
       "version_major": 2,
       "version_minor": 0
      },
      "text/plain": [
       "HBox(children=(HTML(value=''), FloatProgress(value=0.0, max=3.0), HTML(value='')))"
      ]
     },
     "metadata": {},
     "output_type": "display_data"
    },
    {
     "name": "stdout",
     "output_type": "stream",
     "text": [
      "댓글 페이지를 최대로 확장하였습니다\n",
      "현재까지 긁어온 댓글의 수 : 4163\n",
      "댓글 페이지를 최대로 확장하였습니다\n",
      "현재까지 긁어온 댓글의 수 : 4681\n",
      "댓글 페이지를 최대로 확장하였습니다\n",
      "현재까지 긁어온 댓글의 수 : 4921\n",
      "\n"
     ]
    },
    {
     "data": {
      "application/vnd.jupyter.widget-view+json": {
       "model_id": "d3553ce88ee54dbda697373aecaeb79a",
       "version_major": 2,
       "version_minor": 0
      },
      "text/plain": [
       "HBox(children=(HTML(value=''), FloatProgress(value=0.0, max=3.0), HTML(value='')))"
      ]
     },
     "metadata": {},
     "output_type": "display_data"
    },
    {
     "name": "stdout",
     "output_type": "stream",
     "text": [
      "댓글 페이지를 최대로 확장하였습니다\n",
      "현재까지 긁어온 댓글의 수 : 4921\n",
      "댓글 페이지를 최대로 확장하였습니다\n",
      "현재까지 긁어온 댓글의 수 : 4921\n",
      "댓글 페이지를 최대로 확장하였습니다\n",
      "현재까지 긁어온 댓글의 수 : 4921\n",
      "\n"
     ]
    },
    {
     "data": {
      "application/vnd.jupyter.widget-view+json": {
       "model_id": "543482a145ff4487b610a2ec37d107f4",
       "version_major": 2,
       "version_minor": 0
      },
      "text/plain": [
       "HBox(children=(HTML(value=''), FloatProgress(value=0.0, max=3.0), HTML(value='')))"
      ]
     },
     "metadata": {},
     "output_type": "display_data"
    },
    {
     "name": "stdout",
     "output_type": "stream",
     "text": [
      "댓글 페이지를 최대로 확장하였습니다\n",
      "현재까지 긁어온 댓글의 수 : 4921\n",
      "댓글 페이지를 최대로 확장하였습니다\n",
      "현재까지 긁어온 댓글의 수 : 4921\n",
      "댓글 페이지를 최대로 확장하였습니다\n",
      "현재까지 긁어온 댓글의 수 : 4921\n",
      "\n"
     ]
    },
    {
     "data": {
      "application/vnd.jupyter.widget-view+json": {
       "model_id": "2c78dc5c374649ffa0b3489553099350",
       "version_major": 2,
       "version_minor": 0
      },
      "text/plain": [
       "HBox(children=(HTML(value=''), FloatProgress(value=0.0, max=3.0), HTML(value='')))"
      ]
     },
     "metadata": {},
     "output_type": "display_data"
    },
    {
     "name": "stdout",
     "output_type": "stream",
     "text": [
      "댓글 페이지를 최대로 확장하였습니다\n",
      "현재까지 긁어온 댓글의 수 : 4921\n",
      "댓글 페이지를 최대로 확장하였습니다\n",
      "현재까지 긁어온 댓글의 수 : 4921\n",
      "댓글 페이지를 최대로 확장하였습니다\n",
      "현재까지 긁어온 댓글의 수 : 4921\n",
      "\n"
     ]
    },
    {
     "data": {
      "application/vnd.jupyter.widget-view+json": {
       "model_id": "bc0be5e55bd745efbabbb9d435045c91",
       "version_major": 2,
       "version_minor": 0
      },
      "text/plain": [
       "HBox(children=(HTML(value=''), FloatProgress(value=0.0, max=3.0), HTML(value='')))"
      ]
     },
     "metadata": {},
     "output_type": "display_data"
    },
    {
     "name": "stdout",
     "output_type": "stream",
     "text": [
      "댓글 페이지를 최대로 확장하였습니다\n",
      "현재까지 긁어온 댓글의 수 : 4921\n",
      "댓글 페이지를 최대로 확장하였습니다\n",
      "현재까지 긁어온 댓글의 수 : 4921\n",
      "댓글 페이지를 최대로 확장하였습니다\n",
      "현재까지 긁어온 댓글의 수 : 4921\n",
      "\n",
      "\n"
     ]
    }
   ],
   "source": [
    "insta_list = driver.find_element_by_css_selector('body > div > section._9eogI > main.SCxLW > div > div._2z6nI > article.ySN3v > div > div')\n",
    "big_list = insta_list.find_elements_by_css_selector('div.Nnq7C')\n",
    "\n",
    "comment_list = []\n",
    "\n",
    "for small_list in tqdm_notebook(big_list):\n",
    "    for_click_list = small_list.find_elements_by_css_selector('div.v1Nh3 > a')\n",
    "    \n",
    "    for element in tqdm_notebook(for_click_list):\n",
    "        \n",
    "        # 개시물 오픈\n",
    "        element.send_keys('\\n')\n",
    "        time.sleep(5)\n",
    "        \n",
    "        # 댓글란 최대한 열기\n",
    "        while 1:\n",
    "            try:\n",
    "                expansion_comment = driver.find_element_by_css_selector('button.dCJp8')\n",
    "                expansion_comment.send_keys('\\n')\n",
    "                time.sleep(3)\n",
    "            except :\n",
    "                print('댓글 페이지를 최대로 확장하였습니다')\n",
    "                break\n",
    "        \n",
    "        \n",
    "        # 게시글 크롤링\n",
    "        comment_body_list = driver.find_elements_by_css_selector('body > div._2dDPU > div.zZYga > div.PdwC2 > article > div.eo2As > div.EtaWk > ul.XQXOT > ul.Mr508')\n",
    "        n = len(comment_body_list)\n",
    "        \n",
    "        for idx in range(n):\n",
    "            comment = comment_body_list[idx].find_element_by_css_selector('div > li > div > div.C7I1f > div.C4VMK > span')\n",
    "            comment_list.append(comment.text)\n",
    "        print('현재까지 긁어온 댓글의 수 :', len(comment_list))\n",
    "        \n",
    "        \n",
    "        # 게시물 닫기\n",
    "        close_bnt = driver.find_element_by_css_selector('body > div._2dDPU > div.Igw0E > button')\n",
    "        close_bnt.send_keys('\\n')\n",
    "        \n",
    "    time.sleep(5)\n",
    "\n",
    "        "
   ]
  },
  {
   "cell_type": "markdown",
   "metadata": {},
   "source": [
    "## 5. 크롤링한 댓글 데이터프레임화 하고 csv파일로 만들기"
   ]
  },
  {
   "cell_type": "code",
   "execution_count": 7,
   "metadata": {},
   "outputs": [
    {
     "data": {
      "text/html": [
       "<div>\n",
       "<style scoped>\n",
       "    .dataframe tbody tr th:only-of-type {\n",
       "        vertical-align: middle;\n",
       "    }\n",
       "\n",
       "    .dataframe tbody tr th {\n",
       "        vertical-align: top;\n",
       "    }\n",
       "\n",
       "    .dataframe thead th {\n",
       "        text-align: right;\n",
       "    }\n",
       "</style>\n",
       "<table border=\"1\" class=\"dataframe\">\n",
       "  <thead>\n",
       "    <tr style=\"text-align: right;\">\n",
       "      <th></th>\n",
       "      <th>댓글</th>\n",
       "    </tr>\n",
       "  </thead>\n",
       "  <tbody>\n",
       "    <tr>\n",
       "      <th>0</th>\n",
       "      <td>🙏</td>\n",
       "    </tr>\n",
       "    <tr>\n",
       "      <th>1</th>\n",
       "      <td>가짜사나이2 인트로 문구 이죠??? 군인들의 처우가 개선됬으면 합니다.</td>\n",
       "    </tr>\n",
       "    <tr>\n",
       "      <th>2</th>\n",
       "      <td>👏</td>\n",
       "    </tr>\n",
       "    <tr>\n",
       "      <th>3</th>\n",
       "      <td>대한민국 모두 군인에게 감사합니다\\n김계란씨도 항상 화이팅 하십쇼👏</td>\n",
       "    </tr>\n",
       "    <tr>\n",
       "      <th>4</th>\n",
       "      <td>해군 해병 은 한가족 파이팅</td>\n",
       "    </tr>\n",
       "  </tbody>\n",
       "</table>\n",
       "</div>"
      ],
      "text/plain": [
       "                                        댓글\n",
       "0                                        🙏\n",
       "1  가짜사나이2 인트로 문구 이죠??? 군인들의 처우가 개선됬으면 합니다.\n",
       "2                                        👏\n",
       "3    대한민국 모두 군인에게 감사합니다\\n김계란씨도 항상 화이팅 하십쇼👏\n",
       "4                          해군 해병 은 한가족 파이팅"
      ]
     },
     "execution_count": 7,
     "metadata": {},
     "output_type": "execute_result"
    }
   ],
   "source": [
    "data = pd.DataFrame({'댓글' : comment_list})\n",
    "    \n",
    "data.head()"
   ]
  },
  {
   "cell_type": "code",
   "execution_count": 8,
   "metadata": {},
   "outputs": [],
   "source": [
    "data.to_csv('./크롤링한 댓글 데이터/김계란.csv', encoding='utf-8-sig')"
   ]
  }
 ],
 "metadata": {
  "kernelspec": {
   "display_name": "Python 3",
   "language": "python",
   "name": "python3"
  },
  "language_info": {
   "codemirror_mode": {
    "name": "ipython",
    "version": 3
   },
   "file_extension": ".py",
   "mimetype": "text/x-python",
   "name": "python",
   "nbconvert_exporter": "python",
   "pygments_lexer": "ipython3",
   "version": "3.7.9"
  }
 },
 "nbformat": 4,
 "nbformat_minor": 4
}
