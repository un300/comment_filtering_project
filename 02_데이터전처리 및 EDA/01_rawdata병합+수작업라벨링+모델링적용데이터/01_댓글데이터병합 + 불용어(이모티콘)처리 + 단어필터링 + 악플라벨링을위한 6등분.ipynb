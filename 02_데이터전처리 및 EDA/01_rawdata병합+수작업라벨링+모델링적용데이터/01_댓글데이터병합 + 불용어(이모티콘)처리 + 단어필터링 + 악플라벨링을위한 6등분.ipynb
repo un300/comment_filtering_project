{
 "cells": [
  {
   "cell_type": "markdown",
   "metadata": {},
   "source": [
    "###### 2020-11-16 월요일\n",
    "###### 2020-11-17 화요일"
   ]
  },
  {
   "cell_type": "code",
   "execution_count": 1,
   "metadata": {},
   "outputs": [],
   "source": [
    "import warnings\n",
    "\n",
    "warnings.filterwarnings('ignore')"
   ]
  },
  {
   "cell_type": "code",
   "execution_count": 2,
   "metadata": {},
   "outputs": [],
   "source": [
    "import pandas as pd\n",
    "import numpy as np\n",
    "import glob\n",
    "import re\n",
    "\n",
    "from tqdm import tqdm_notebook"
   ]
  },
  {
   "cell_type": "markdown",
   "metadata": {},
   "source": [
    "## 1. 댓글데이터병합 + 400자 초과댓글 제거"
   ]
  },
  {
   "cell_type": "markdown",
   "metadata": {},
   "source": [
    "#### (1) 댓글데이터병합"
   ]
  },
  {
   "cell_type": "code",
   "execution_count": 3,
   "metadata": {},
   "outputs": [],
   "source": [
    "file_name = glob.glob('./01_raw_data/*.csv')"
   ]
  },
  {
   "cell_type": "code",
   "execution_count": 4,
   "metadata": {},
   "outputs": [],
   "source": [
    "repl_data = pd.read_csv(file_name[0])\n",
    "repl_data['출처'] = file_name[0]"
   ]
  },
  {
   "cell_type": "code",
   "execution_count": 5,
   "metadata": {
    "scrolled": false
   },
   "outputs": [
    {
     "name": "stdout",
     "output_type": "stream",
     "text": [
      "./data\\kbs댓글.csv\n",
      "./data\\mbc댓글.csv\n",
      "./data\\subusunews.csv\n",
      "./data\\ytnnews.csv\n",
      "./data\\고영욱.csv\n",
      "./data\\김계란.csv\n",
      "./data\\문재인.csv\n",
      "./data\\박성광.csv\n",
      "./data\\배다해.csv\n",
      "./data\\스윙스.csv\n",
      "./data\\에브리타임_댓글_1113.csv\n",
      "./data\\여행에 미치다.csv\n",
      "./data\\위키블루.csv\n",
      "./data\\유머 짤.csv\n",
      "./data\\이상민.csv\n",
      "./data\\이슈 콕.csv\n",
      "./data\\이슈이슈.csv\n",
      "./data\\인사이트.csv\n",
      "./data\\인사이트_biz.csv\n",
      "./data\\인사이트_ent.csv\n",
      "./data\\일베_일간베스트게시물_댓글_최근12페이지.csv\n",
      "./data\\장성규.csv\n",
      "./data\\청와대댓글.csv\n",
      "./data\\최자.csv\n",
      "./data\\함소원.csv\n",
      "./data\\홍석천.csv\n"
     ]
    }
   ],
   "source": [
    "for path in file_name[1:]:\n",
    "    temp_data = pd.read_csv(path)\n",
    "    temp_data['출처'] = path\n",
    "    repl_data = pd.concat([repl_data, temp_data])\n",
    "    print(path)"
   ]
  },
  {
   "cell_type": "markdown",
   "metadata": {},
   "source": [
    "## 1. 라벨링 되지않은 원본데이터 저장"
   ]
  },
  {
   "cell_type": "markdown",
   "metadata": {},
   "source": [
    "#### (1) 전체데이터 저장"
   ]
  },
  {
   "cell_type": "code",
   "execution_count": null,
   "metadata": {},
   "outputs": [],
   "source": [
    "repl_data.to_csv('./merge_data/merge_data.csv')"
   ]
  },
  {
   "cell_type": "markdown",
   "metadata": {},
   "source": [
    "#### (2) 400자 초과 댓글제거"
   ]
  },
  {
   "cell_type": "code",
   "execution_count": 7,
   "metadata": {},
   "outputs": [],
   "source": [
    "repl_data['댓글길이'] = repl_data['댓글'].apply(lambda x : len(str(x)))"
   ]
  },
  {
   "cell_type": "code",
   "execution_count": 8,
   "metadata": {},
   "outputs": [],
   "source": [
    "repl_data = repl_data[repl_data['댓글길이'] <= 400]"
   ]
  },
  {
   "cell_type": "markdown",
   "metadata": {},
   "source": [
    "## 2. 불용어(이모티콘)처리"
   ]
  },
  {
   "cell_type": "markdown",
   "metadata": {},
   "source": [
    "#### (1) 중복된 댓글 제거"
   ]
  },
  {
   "cell_type": "code",
   "execution_count": 9,
   "metadata": {},
   "outputs": [],
   "source": [
    "raw_data = repl_data.drop_duplicates(subset='댓글', keep='first', inplace=False)"
   ]
  },
  {
   "cell_type": "code",
   "execution_count": 10,
   "metadata": {},
   "outputs": [],
   "source": [
    "# 정규표현식 전과 후를 비교하기 위해 세로운 데이터프레임 생성\n",
    "preprocessing_df = raw_data.copy()"
   ]
  },
  {
   "cell_type": "markdown",
   "metadata": {},
   "source": [
    "#### (2) `@[아이디]` 제거"
   ]
  },
  {
   "cell_type": "code",
   "execution_count": 11,
   "metadata": {},
   "outputs": [],
   "source": [
    "preprocessing_df['댓글'] = preprocessing_df['댓글'].str.replace('@[a-zA-Z가-힣\\w\\.\\_\\d]+', '')"
   ]
  },
  {
   "cell_type": "markdown",
   "metadata": {},
   "source": [
    "#### (3) `한글/영어/숫자`를 제외한 문자제거"
   ]
  },
  {
   "cell_type": "markdown",
   "metadata": {},
   "source": [
    " - 이모티콘이나 특수문자를 제거한다"
   ]
  },
  {
   "cell_type": "code",
   "execution_count": 12,
   "metadata": {},
   "outputs": [],
   "source": [
    "preprocessing_df['댓글'] = preprocessing_df['댓글'].str.replace('[^a-zA-Z가-힣0-9ㄱ-ㅎㅏ-ㅣ\\s]', '')"
   ]
  },
  {
   "cell_type": "markdown",
   "metadata": {},
   "source": [
    " - 빈공백 글자 `' '`로 통일\n",
    " - 이제 빈댓글을 제거할때 `''`와 `' '`로 제거한다"
   ]
  },
  {
   "cell_type": "code",
   "execution_count": 13,
   "metadata": {},
   "outputs": [],
   "source": [
    "preprocessing_df['댓글'] = preprocessing_df['댓글'].str.replace('\\s[\\s*]', '')"
   ]
  },
  {
   "cell_type": "markdown",
   "metadata": {},
   "source": [
    "#### (4) 양옆에 빈 공백 제거"
   ]
  },
  {
   "cell_type": "code",
   "execution_count": 14,
   "metadata": {},
   "outputs": [],
   "source": [
    "preprocessing_df['댓글'] = preprocessing_df['댓글'].str.rstrip()"
   ]
  },
  {
   "cell_type": "code",
   "execution_count": 15,
   "metadata": {},
   "outputs": [],
   "source": [
    "preprocessing_df['댓글'] = preprocessing_df['댓글'].str.lstrip()"
   ]
  },
  {
   "cell_type": "markdown",
   "metadata": {},
   "source": [
    " - 영어만 있는 행을 제거하기 전에 인덱스를 정렬하자"
   ]
  },
  {
   "cell_type": "markdown",
   "metadata": {},
   "source": [
    "#### (5) 빈댓글 제거"
   ]
  },
  {
   "cell_type": "code",
   "execution_count": 16,
   "metadata": {},
   "outputs": [],
   "source": [
    "preprocessing_df = preprocessing_df[preprocessing_df['댓글'] != '']"
   ]
  },
  {
   "cell_type": "code",
   "execution_count": 17,
   "metadata": {},
   "outputs": [],
   "source": [
    "preprocessing_df = preprocessing_df[preprocessing_df['댓글'] != ' ']"
   ]
  },
  {
   "cell_type": "code",
   "execution_count": 18,
   "metadata": {},
   "outputs": [
    {
     "data": {
      "text/plain": [
       "(108847, 4)"
      ]
     },
     "execution_count": 18,
     "metadata": {},
     "output_type": "execute_result"
    }
   ],
   "source": [
    "preprocessing_df.shape"
   ]
  },
  {
   "cell_type": "code",
   "execution_count": 19,
   "metadata": {},
   "outputs": [
    {
     "data": {
      "text/html": [
       "<div>\n",
       "<style scoped>\n",
       "    .dataframe tbody tr th:only-of-type {\n",
       "        vertical-align: middle;\n",
       "    }\n",
       "\n",
       "    .dataframe tbody tr th {\n",
       "        vertical-align: top;\n",
       "    }\n",
       "\n",
       "    .dataframe thead th {\n",
       "        text-align: right;\n",
       "    }\n",
       "</style>\n",
       "<table border=\"1\" class=\"dataframe\">\n",
       "  <thead>\n",
       "    <tr style=\"text-align: right;\">\n",
       "      <th></th>\n",
       "      <th>Unnamed: 0</th>\n",
       "      <th>댓글</th>\n",
       "      <th>출처</th>\n",
       "      <th>댓글길이</th>\n",
       "    </tr>\n",
       "  </thead>\n",
       "  <tbody>\n",
       "    <tr>\n",
       "      <th>1386</th>\n",
       "      <td>1386</td>\n",
       "      <td>NaN</td>\n",
       "      <td>./data\\스윙스.csv</td>\n",
       "      <td>3</td>\n",
       "    </tr>\n",
       "  </tbody>\n",
       "</table>\n",
       "</div>"
      ],
      "text/plain": [
       "      Unnamed: 0   댓글              출처  댓글길이\n",
       "1386        1386  NaN  ./data\\스윙스.csv     3"
      ]
     },
     "execution_count": 19,
     "metadata": {},
     "output_type": "execute_result"
    }
   ],
   "source": [
    "preprocessing_df[preprocessing_df['댓글'].str.isspace().isna()]"
   ]
  },
  {
   "cell_type": "markdown",
   "metadata": {},
   "source": [
    "#### (6) 결측값제거"
   ]
  },
  {
   "cell_type": "markdown",
   "metadata": {},
   "source": [
    " - 스윙스댓글 1386번째 댓글이 NaN값이 뜬다 제거하자"
   ]
  },
  {
   "cell_type": "code",
   "execution_count": 20,
   "metadata": {},
   "outputs": [],
   "source": [
    "preprocessing_df = preprocessing_df[~preprocessing_df['댓글'].isna()]"
   ]
  },
  {
   "cell_type": "markdown",
   "metadata": {},
   "source": [
    "#### (7) 영어만 있는 행 제거"
   ]
  },
  {
   "cell_type": "code",
   "execution_count": 21,
   "metadata": {},
   "outputs": [],
   "source": [
    "preprocessing_df = preprocessing_df.reset_index()\n",
    "preprocessing_df = preprocessing_df.drop(['index', 'Unnamed: 0', '댓글길이'], axis=1, inplace=False)"
   ]
  },
  {
   "cell_type": "code",
   "execution_count": 22,
   "metadata": {},
   "outputs": [
    {
     "data": {
      "text/plain": [
       "0         심각허다 법안 검토도 안 하는 의원들 내 세금으로 호의호식 한다 생각하니까 열받네 ...\n",
       "1         차도에서 25km제한 둠 어쩌자는건지 자전거 오토바이도 그거보다 빠르다 인도 차도 ...\n",
       "2                                       국회의원직 다 박탈했으면 좋겠네ㅠㅠ\n",
       "3                                        표 얻을 생각 말고 법을 만들어라\n",
       "4                              초딩 애들이 몰고다니는 형형색색 씽씽이 생각했나보네\n",
       "                                ...                        \n",
       "108841                                              오빠 어디예요\n",
       "108842                                               외국 갔어요\n",
       "108843                                 이건 홍마담에서 구입 못하나요 ㅎㅎㅎ\n",
       "108844                                           느무 잘먹는 예 9\n",
       "108845                               맛있는건 눈으로만 봐도 알죠맛있게 드세요\n",
       "Name: 댓글, Length: 108846, dtype: object"
      ]
     },
     "execution_count": 22,
     "metadata": {},
     "output_type": "execute_result"
    }
   ],
   "source": [
    "preprocessing_df['댓글'].str.lower()"
   ]
  },
  {
   "cell_type": "code",
   "execution_count": 23,
   "metadata": {},
   "outputs": [],
   "source": [
    "preprocessing_df = preprocessing_df[~preprocessing_df['댓글'].str.isalpha()]"
   ]
  },
  {
   "cell_type": "code",
   "execution_count": 24,
   "metadata": {
    "scrolled": true
   },
   "outputs": [
    {
     "data": {
      "text/plain": [
       "(91288, 2)"
      ]
     },
     "execution_count": 24,
     "metadata": {},
     "output_type": "execute_result"
    }
   ],
   "source": [
    "preprocessing_df.shape"
   ]
  },
  {
   "cell_type": "markdown",
   "metadata": {},
   "source": [
    "## 3. 단어필터링"
   ]
  },
  {
   "cell_type": "markdown",
   "metadata": {},
   "source": [
    " - **나무위키**에서 찾은 욕설사전을 통해 단어필터링을 한다\n",
    " - **나무위키**는 여러사람이 수정할 수 있어 객관적인 기준이라고는 할 수 없지만, 여러사람들의 의견을 수용할 수 있다는 장점이있다.\n",
    " - 그러므로 **나무위키**는 여러사람의 보편적인 의견을 수용하여 나타낼 수 있는 중요한 지표라 생각하여 **나무위키**의 욕설사전을 사용한다.\n",
    " - 일일히 라벨링을 시도하기 전에 조금이라도 수작업을 줄이기위해 욕설이 포함된 악플에 라벨을 부여하여 수작업의 양을 줄인다."
   ]
  },
  {
   "cell_type": "code",
   "execution_count": 25,
   "metadata": {},
   "outputs": [],
   "source": [
    "preprocessing_df = preprocessing_df.reset_index()\n",
    "preprocessing_df = preprocessing_df.drop(['index'], axis=1, inplace=False)"
   ]
  },
  {
   "cell_type": "code",
   "execution_count": 26,
   "metadata": {},
   "outputs": [],
   "source": [
    "preprocessing_df['악플여부'] = np.NaN"
   ]
  },
  {
   "cell_type": "code",
   "execution_count": 27,
   "metadata": {},
   "outputs": [],
   "source": [
    "filter_word_df = pd.read_excel('./02_필터링단어/필터링단어(나무위키).xlsx')"
   ]
  },
  {
   "cell_type": "code",
   "execution_count": 28,
   "metadata": {},
   "outputs": [
    {
     "data": {
      "text/plain": [
       "13"
      ]
     },
     "execution_count": 28,
     "metadata": {},
     "output_type": "execute_result"
    }
   ],
   "source": [
    "filter_word_df.shape[1]"
   ]
  },
  {
   "cell_type": "code",
   "execution_count": 29,
   "metadata": {
    "scrolled": false
   },
   "outputs": [
    {
     "data": {
      "application/vnd.jupyter.widget-view+json": {
       "model_id": "bd441eccda6c409598bf8f8147b37e7e",
       "version_major": 2,
       "version_minor": 0
      },
      "text/plain": [
       "HBox(children=(HTML(value=''), FloatProgress(value=0.0, max=13.0), HTML(value='')))"
      ]
     },
     "metadata": {},
     "output_type": "display_data"
    },
    {
     "data": {
      "application/vnd.jupyter.widget-view+json": {
       "model_id": "54f1d7832b364da59582b3699bfd8aca",
       "version_major": 2,
       "version_minor": 0
      },
      "text/plain": [
       "HBox(children=(HTML(value=''), FloatProgress(value=0.0, max=56.0), HTML(value='')))"
      ]
     },
     "metadata": {},
     "output_type": "display_data"
    },
    {
     "name": "stdout",
     "output_type": "stream",
     "text": [
      "\n"
     ]
    },
    {
     "data": {
      "application/vnd.jupyter.widget-view+json": {
       "model_id": "178238dbf1014fb99ce09d83a90506c0",
       "version_major": 2,
       "version_minor": 0
      },
      "text/plain": [
       "HBox(children=(HTML(value=''), FloatProgress(value=0.0, max=24.0), HTML(value='')))"
      ]
     },
     "metadata": {},
     "output_type": "display_data"
    },
    {
     "name": "stdout",
     "output_type": "stream",
     "text": [
      "\n"
     ]
    },
    {
     "data": {
      "application/vnd.jupyter.widget-view+json": {
       "model_id": "01947391fbe340908968a03f9268413d",
       "version_major": 2,
       "version_minor": 0
      },
      "text/plain": [
       "HBox(children=(HTML(value=''), FloatProgress(value=0.0, max=8.0), HTML(value='')))"
      ]
     },
     "metadata": {},
     "output_type": "display_data"
    },
    {
     "name": "stdout",
     "output_type": "stream",
     "text": [
      "\n"
     ]
    },
    {
     "data": {
      "application/vnd.jupyter.widget-view+json": {
       "model_id": "72bf53bc452348f891086d8108d0a508",
       "version_major": 2,
       "version_minor": 0
      },
      "text/plain": [
       "HBox(children=(HTML(value=''), FloatProgress(value=0.0, max=8.0), HTML(value='')))"
      ]
     },
     "metadata": {},
     "output_type": "display_data"
    },
    {
     "name": "stdout",
     "output_type": "stream",
     "text": [
      "\n"
     ]
    },
    {
     "data": {
      "application/vnd.jupyter.widget-view+json": {
       "model_id": "3cdf7598523a48b590802c26aa5a4fdd",
       "version_major": 2,
       "version_minor": 0
      },
      "text/plain": [
       "HBox(children=(HTML(value=''), FloatProgress(value=0.0, max=44.0), HTML(value='')))"
      ]
     },
     "metadata": {},
     "output_type": "display_data"
    },
    {
     "name": "stdout",
     "output_type": "stream",
     "text": [
      "\n"
     ]
    },
    {
     "data": {
      "application/vnd.jupyter.widget-view+json": {
       "model_id": "baa937f91705408e8aa97bdeb3c9f4ab",
       "version_major": 2,
       "version_minor": 0
      },
      "text/plain": [
       "HBox(children=(HTML(value=''), FloatProgress(value=0.0, max=10.0), HTML(value='')))"
      ]
     },
     "metadata": {},
     "output_type": "display_data"
    },
    {
     "name": "stdout",
     "output_type": "stream",
     "text": [
      "\n"
     ]
    },
    {
     "data": {
      "application/vnd.jupyter.widget-view+json": {
       "model_id": "0621de1f985f4bac9490af076a8f9bc8",
       "version_major": 2,
       "version_minor": 0
      },
      "text/plain": [
       "HBox(children=(HTML(value=''), FloatProgress(value=0.0, max=5.0), HTML(value='')))"
      ]
     },
     "metadata": {},
     "output_type": "display_data"
    },
    {
     "name": "stdout",
     "output_type": "stream",
     "text": [
      "\n"
     ]
    },
    {
     "data": {
      "application/vnd.jupyter.widget-view+json": {
       "model_id": "2ad61d4a22af49df88ed7ea709b7f823",
       "version_major": 2,
       "version_minor": 0
      },
      "text/plain": [
       "HBox(children=(HTML(value=''), FloatProgress(value=0.0, max=12.0), HTML(value='')))"
      ]
     },
     "metadata": {},
     "output_type": "display_data"
    },
    {
     "name": "stdout",
     "output_type": "stream",
     "text": [
      "\n"
     ]
    },
    {
     "data": {
      "application/vnd.jupyter.widget-view+json": {
       "model_id": "3ef997695a0b40a180457b26eafbaae4",
       "version_major": 2,
       "version_minor": 0
      },
      "text/plain": [
       "HBox(children=(HTML(value=''), FloatProgress(value=0.0, max=6.0), HTML(value='')))"
      ]
     },
     "metadata": {},
     "output_type": "display_data"
    },
    {
     "name": "stdout",
     "output_type": "stream",
     "text": [
      "\n"
     ]
    },
    {
     "data": {
      "application/vnd.jupyter.widget-view+json": {
       "model_id": "fa4b47d299cb4e03be31c5c2efff50a5",
       "version_major": 2,
       "version_minor": 0
      },
      "text/plain": [
       "HBox(children=(HTML(value=''), FloatProgress(value=0.0, max=13.0), HTML(value='')))"
      ]
     },
     "metadata": {},
     "output_type": "display_data"
    },
    {
     "name": "stdout",
     "output_type": "stream",
     "text": [
      "\n"
     ]
    },
    {
     "data": {
      "application/vnd.jupyter.widget-view+json": {
       "model_id": "d515f3b1324d48858b7a10b348d87623",
       "version_major": 2,
       "version_minor": 0
      },
      "text/plain": [
       "HBox(children=(HTML(value=''), FloatProgress(value=0.0, max=12.0), HTML(value='')))"
      ]
     },
     "metadata": {},
     "output_type": "display_data"
    },
    {
     "name": "stdout",
     "output_type": "stream",
     "text": [
      "\n"
     ]
    },
    {
     "data": {
      "application/vnd.jupyter.widget-view+json": {
       "model_id": "074c1248153049e0b178a453ebdc7d4d",
       "version_major": 2,
       "version_minor": 0
      },
      "text/plain": [
       "HBox(children=(HTML(value=''), FloatProgress(value=0.0, max=4.0), HTML(value='')))"
      ]
     },
     "metadata": {},
     "output_type": "display_data"
    },
    {
     "name": "stdout",
     "output_type": "stream",
     "text": [
      "\n"
     ]
    },
    {
     "data": {
      "application/vnd.jupyter.widget-view+json": {
       "model_id": "6d3d556ee0264c5db007def858c70167",
       "version_major": 2,
       "version_minor": 0
      },
      "text/plain": [
       "HBox(children=(HTML(value=''), FloatProgress(value=0.0, max=18.0), HTML(value='')))"
      ]
     },
     "metadata": {},
     "output_type": "display_data"
    },
    {
     "name": "stdout",
     "output_type": "stream",
     "text": [
      "\n",
      "\n"
     ]
    }
   ],
   "source": [
    "for col in tqdm_notebook(range(filter_word_df.shape[1])):\n",
    "    word_list = list(filter_word_df.iloc[:, col])[0].split(', ')\n",
    "    label = filter_word_df.columns[col][-2]\n",
    "    \n",
    "    for filter_word in tqdm_notebook(word_list):\n",
    "        preprocessing_df.loc[ preprocessing_df['댓글'].str.match('.*' + filter_word + '.*'), '악플여부' ] = label"
   ]
  },
  {
   "cell_type": "code",
   "execution_count": 30,
   "metadata": {},
   "outputs": [],
   "source": [
    "preprocessing_df = preprocessing_df.reindex(columns = ['댓글', '악플여부', '출처'])"
   ]
  },
  {
   "cell_type": "code",
   "execution_count": 31,
   "metadata": {},
   "outputs": [],
   "source": [
    "exist_label_df = preprocessing_df[preprocessing_df['악플여부'].notnull()]\n",
    "not_exist_label_df = preprocessing_df[preprocessing_df['악플여부'].isnull()]"
   ]
  },
  {
   "cell_type": "code",
   "execution_count": 32,
   "metadata": {},
   "outputs": [
    {
     "name": "stdout",
     "output_type": "stream",
     "text": [
      "(8583, 3)\n",
      "(82705, 3)\n"
     ]
    }
   ],
   "source": [
    "print(exist_label_df.shape)\n",
    "print(not_exist_label_df.shape)"
   ]
  },
  {
   "cell_type": "code",
   "execution_count": 33,
   "metadata": {},
   "outputs": [
    {
     "data": {
      "text/html": [
       "<div>\n",
       "<style scoped>\n",
       "    .dataframe tbody tr th:only-of-type {\n",
       "        vertical-align: middle;\n",
       "    }\n",
       "\n",
       "    .dataframe tbody tr th {\n",
       "        vertical-align: top;\n",
       "    }\n",
       "\n",
       "    .dataframe thead th {\n",
       "        text-align: right;\n",
       "    }\n",
       "</style>\n",
       "<table border=\"1\" class=\"dataframe\">\n",
       "  <thead>\n",
       "    <tr style=\"text-align: right;\">\n",
       "      <th></th>\n",
       "      <th>댓글</th>\n",
       "      <th>악플여부</th>\n",
       "      <th>출처</th>\n",
       "    </tr>\n",
       "  </thead>\n",
       "  <tbody>\n",
       "    <tr>\n",
       "      <th>75</th>\n",
       "      <td>지랄을 한다 역격리 고맙다</td>\n",
       "      <td>2</td>\n",
       "      <td>./data\\JTBCNEWS_인스타_댓글_1116.csv</td>\n",
       "    </tr>\n",
       "    <tr>\n",
       "      <th>86</th>\n",
       "      <td>지네때문에 온나라가 지랄낫는데</td>\n",
       "      <td>2</td>\n",
       "      <td>./data\\JTBCNEWS_인스타_댓글_1116.csv</td>\n",
       "    </tr>\n",
       "    <tr>\n",
       "      <th>95</th>\n",
       "      <td>짱꺄나 쪽바리나</td>\n",
       "      <td>2</td>\n",
       "      <td>./data\\JTBCNEWS_인스타_댓글_1116.csv</td>\n",
       "    </tr>\n",
       "    <tr>\n",
       "      <th>122</th>\n",
       "      <td>지랄한다미세먼지나 잡아라 중국에 말도 못하면서 말은 잘도 씨부린다</td>\n",
       "      <td>2</td>\n",
       "      <td>./data\\JTBCNEWS_인스타_댓글_1116.csv</td>\n",
       "    </tr>\n",
       "    <tr>\n",
       "      <th>178</th>\n",
       "      <td>아무리 내새끼라도 다리병신 만들어버렸을듯</td>\n",
       "      <td>2</td>\n",
       "      <td>./data\\JTBCNEWS_인스타_댓글_1116.csv</td>\n",
       "    </tr>\n",
       "    <tr>\n",
       "      <th>...</th>\n",
       "      <td>...</td>\n",
       "      <td>...</td>\n",
       "      <td>...</td>\n",
       "    </tr>\n",
       "    <tr>\n",
       "      <th>89851</th>\n",
       "      <td>진짜 ㅋㅋㅋ 댓글 지우는거 보소참 성격 병신 맞가</td>\n",
       "      <td>2</td>\n",
       "      <td>./data\\함소원.csv</td>\n",
       "    </tr>\n",
       "    <tr>\n",
       "      <th>90081</th>\n",
       "      <td>진짜 대박이다언니힘내세요그냥이럴때 공인이고 모고 다 뒤로하시고 사이다 날려요저런애들...</td>\n",
       "      <td>2</td>\n",
       "      <td>./data\\함소원.csv</td>\n",
       "    </tr>\n",
       "    <tr>\n",
       "      <th>90946</th>\n",
       "      <td>올바른길이란게 정해지지않는듯오빠가 열심히하시고 즐겁게 시간보내는것이 오빠만의 길인듯...</td>\n",
       "      <td>2</td>\n",
       "      <td>./data\\홍석천.csv</td>\n",
       "    </tr>\n",
       "    <tr>\n",
       "      <th>91211</th>\n",
       "      <td>석천오빠님사랑해요 레스토랑 한번 가본 촌년이지만행복한 기억이였고늘 오빠가 잘 되길 ...</td>\n",
       "      <td>2</td>\n",
       "      <td>./data\\홍석천.csv</td>\n",
       "    </tr>\n",
       "    <tr>\n",
       "      <th>91275</th>\n",
       "      <td>오빠가 더 행복하세요</td>\n",
       "      <td>2</td>\n",
       "      <td>./data\\홍석천.csv</td>\n",
       "    </tr>\n",
       "  </tbody>\n",
       "</table>\n",
       "<p>8583 rows × 3 columns</p>\n",
       "</div>"
      ],
      "text/plain": [
       "                                                      댓글 악플여부  \\\n",
       "75                                        지랄을 한다 역격리 고맙다    2   \n",
       "86                                      지네때문에 온나라가 지랄낫는데    2   \n",
       "95                                              짱꺄나 쪽바리나    2   \n",
       "122                 지랄한다미세먼지나 잡아라 중국에 말도 못하면서 말은 잘도 씨부린다    2   \n",
       "178                               아무리 내새끼라도 다리병신 만들어버렸을듯    2   \n",
       "...                                                  ...  ...   \n",
       "89851                        진짜 ㅋㅋㅋ 댓글 지우는거 보소참 성격 병신 맞가    2   \n",
       "90081  진짜 대박이다언니힘내세요그냥이럴때 공인이고 모고 다 뒤로하시고 사이다 날려요저런애들...    2   \n",
       "90946  올바른길이란게 정해지지않는듯오빠가 열심히하시고 즐겁게 시간보내는것이 오빠만의 길인듯...    2   \n",
       "91211  석천오빠님사랑해요 레스토랑 한번 가본 촌년이지만행복한 기억이였고늘 오빠가 잘 되길 ...    2   \n",
       "91275                                        오빠가 더 행복하세요    2   \n",
       "\n",
       "                                    출처  \n",
       "75     ./data\\JTBCNEWS_인스타_댓글_1116.csv  \n",
       "86     ./data\\JTBCNEWS_인스타_댓글_1116.csv  \n",
       "95     ./data\\JTBCNEWS_인스타_댓글_1116.csv  \n",
       "122    ./data\\JTBCNEWS_인스타_댓글_1116.csv  \n",
       "178    ./data\\JTBCNEWS_인스타_댓글_1116.csv  \n",
       "...                                ...  \n",
       "89851                   ./data\\함소원.csv  \n",
       "90081                   ./data\\함소원.csv  \n",
       "90946                   ./data\\홍석천.csv  \n",
       "91211                   ./data\\홍석천.csv  \n",
       "91275                   ./data\\홍석천.csv  \n",
       "\n",
       "[8583 rows x 3 columns]"
      ]
     },
     "execution_count": 33,
     "metadata": {},
     "output_type": "execute_result"
    }
   ],
   "source": [
    "exist_label_df"
   ]
  },
  {
   "cell_type": "markdown",
   "metadata": {},
   "source": [
    "## 4. 악플라벨링을 위해 6등분"
   ]
  },
  {
   "cell_type": "code",
   "execution_count": 37,
   "metadata": {},
   "outputs": [
    {
     "name": "stdout",
     "output_type": "stream",
     "text": [
      "1번째 : 13784\n",
      "2번째 : 13784\n",
      "3번째 : 13784\n",
      "4번째 : 13784\n",
      "5번째 : 13784\n",
      "6번째 : 13785\n"
     ]
    }
   ],
   "source": [
    "# 수작업으로 라벨링을 하기 위해\n",
    "# 팀원모두 동등한 데이터의 개수를 부여해야한다.\n",
    "\n",
    "division = int(not_exist_label_df.shape[0]/6)\n",
    "\n",
    "for i in range(6):\n",
    "    if i == 5 :\n",
    "        temp_data = not_exist_label_df.iloc[division*i : ]\n",
    "    else : \n",
    "        temp_data = not_exist_label_df.iloc[division*i : division*(i+1)]\n",
    "    print(str(i+1) + '번째 :', temp_data.shape[0])\n",
    "        \n",
    "    temp_data['댓글길이'] = temp_data['댓글'].apply(lambda x : len(str(x)))\n",
    "    temp_data.sort_values(by='댓글길이', ascending=True, inplace=True)\n",
    "    temp_data.drop(['댓글길이'], axis=1, inplace=True)\n",
    "    temp_data.to_csv('./merge_data/division_data' + str(i+1) + '(2020-11-17).csv', encoding='utf-8-sig')"
   ]
  },
  {
   "cell_type": "markdown",
   "metadata": {},
   "source": [
    "## 5. 단어 필터로 라벨링이 완료된 댓글 따로저장"
   ]
  },
  {
   "cell_type": "code",
   "execution_count": 34,
   "metadata": {},
   "outputs": [],
   "source": [
    "exist_label_df.to_csv('./merge_data/exist_label_df_나무위키.csv', encoding='utf-8-sig')"
   ]
  }
 ],
 "metadata": {
  "kernelspec": {
   "display_name": "Python 3",
   "language": "python",
   "name": "python3"
  },
  "language_info": {
   "codemirror_mode": {
    "name": "ipython",
    "version": 3
   },
   "file_extension": ".py",
   "mimetype": "text/x-python",
   "name": "python",
   "nbconvert_exporter": "python",
   "pygments_lexer": "ipython3",
   "version": "3.8.5"
  }
 },
 "nbformat": 4,
 "nbformat_minor": 4
}
