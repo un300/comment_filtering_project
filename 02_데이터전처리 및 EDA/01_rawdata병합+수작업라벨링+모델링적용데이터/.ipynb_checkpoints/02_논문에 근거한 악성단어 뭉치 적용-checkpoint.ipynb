{
 "cells": [
  {
   "cell_type": "markdown",
   "metadata": {},
   "source": [
    "###### 2020-12-11\n"
   ]
  },
  {
   "cell_type": "code",
   "execution_count": 4,
   "metadata": {},
   "outputs": [],
   "source": [
    "import pandas as pd\n",
    "import numpy as np\n",
    "import glob\n",
    "import re\n",
    "\n",
    "from tqdm import tqdm_notebook"
   ]
  },
  {
   "cell_type": "markdown",
   "metadata": {},
   "source": [
    "# 02_논문에 근거한 악성단어 뭉치 적용"
   ]
  },
  {
   "cell_type": "markdown",
   "metadata": {},
   "source": [
    " - 악플에 대한 좀 더 객관적인 기준이 필요하다고 판단하여 악성댓글과 욕설에 대한 논문들에 근거해 악성댓글여부를 부여하고자 한다.\n",
    " - 참고한 논문은 다음과 같다.\n",
    "    - [네이버 뉴스 댓글의 욕설에 대한 사회언어학적 연구, 이정복 박은하, 2019\n",
    "    - 댓글에 나타난 욕설 형태 연구, 전병철, 2007\n",
    "    - 욕설의 특질에 관한 연구, 김상윤,\n",
    "    - 국어 욕설의 본질과 유형, 장경희, 2010\n",
    "    - 비속어와 욕설의 개념에 대하여, 이선영, 2015]"
   ]
  },
  {
   "cell_type": "markdown",
   "metadata": {},
   "source": [
    "## 1. 수작업으로 라벨링 완료한 데이터 합치기"
   ]
  },
  {
   "cell_type": "code",
   "execution_count": 5,
   "metadata": {},
   "outputs": [],
   "source": [
    "csv_file = glob.glob('./04_라벨링(수작업)완료한데이터/*.csv')\n",
    "excel_file = glob.glob('./04_라벨링(수작업)완료한데이터/*.xlsx')\n",
    "all_file_name = csv_file + excel_file"
   ]
  },
  {
   "cell_type": "code",
   "execution_count": 6,
   "metadata": {
    "scrolled": false
   },
   "outputs": [
    {
     "name": "stdout",
     "output_type": "stream",
     "text": [
      "./라벨링(수작업)완료한데이터\\division_data2.csv\n",
      "./라벨링(수작업)완료한데이터\\division_data3.csv\n",
      "./라벨링(수작업)완료한데이터\\division_data5.csv\n",
      "./라벨링(수작업)완료한데이터\\division_data6.csv\n",
      "./라벨링(수작업)완료한데이터\\division_data4.xlsx\n",
      "./라벨링(수작업)완료한데이터\\exist_label_df_나무위키.xlsx\n"
     ]
    }
   ],
   "source": [
    "csv_df = pd.read_csv(all_file_name[0])\n",
    "csv_df = csv_df[['댓글', '악플여부', '출처']]\n",
    "\n",
    "for file in all_file_name[1:]:\n",
    "    print(file)\n",
    "    try:\n",
    "        temp_df = pd.read_csv(file, encoding='utf-8')\n",
    "    except:\n",
    "        try:\n",
    "            temp_df = pd.read_csv(file, encoding='cp949')\n",
    "        except:\n",
    "            temp_df = pd.read_excel(file)\n",
    "            \n",
    "    csv_df = pd.concat([csv_df, temp_df[['댓글', '악플여부', '출처']]])"
   ]
  },
  {
   "cell_type": "code",
   "execution_count": 7,
   "metadata": {},
   "outputs": [],
   "source": [
    "# 복사본 저장\n",
    "all_df = csv_df"
   ]
  },
  {
   "cell_type": "code",
   "execution_count": 8,
   "metadata": {
    "scrolled": true
   },
   "outputs": [
    {
     "data": {
      "text/plain": [
       "0.0    67416\n",
       "2.0    14225\n",
       "1.0     8223\n",
       "Name: 악플여부, dtype: int64"
      ]
     },
     "execution_count": 8,
     "metadata": {},
     "output_type": "execute_result"
    }
   ],
   "source": [
    "all_df['악플여부'].value_counts()"
   ]
  },
  {
   "cell_type": "code",
   "execution_count": 9,
   "metadata": {},
   "outputs": [],
   "source": [
    "not_null_index = all_df['악플여부'].notnull()\n",
    "all_df2 = all_df[not_null_index]"
   ]
  },
  {
   "cell_type": "code",
   "execution_count": 10,
   "metadata": {},
   "outputs": [
    {
     "data": {
      "text/html": [
       "<div>\n",
       "<style scoped>\n",
       "    .dataframe tbody tr th:only-of-type {\n",
       "        vertical-align: middle;\n",
       "    }\n",
       "\n",
       "    .dataframe tbody tr th {\n",
       "        vertical-align: top;\n",
       "    }\n",
       "\n",
       "    .dataframe thead th {\n",
       "        text-align: right;\n",
       "    }\n",
       "</style>\n",
       "<table border=\"1\" class=\"dataframe\">\n",
       "  <thead>\n",
       "    <tr style=\"text-align: right;\">\n",
       "      <th></th>\n",
       "      <th>댓글</th>\n",
       "      <th>악플여부</th>\n",
       "      <th>출처</th>\n",
       "    </tr>\n",
       "  </thead>\n",
       "  <tbody>\n",
       "    <tr>\n",
       "      <th>11</th>\n",
       "      <td>U2</td>\n",
       "      <td>0.0</td>\n",
       "      <td>./data\\문재인.csv</td>\n",
       "    </tr>\n",
       "    <tr>\n",
       "      <th>12</th>\n",
       "      <td>2기</td>\n",
       "      <td>0.0</td>\n",
       "      <td>./data\\김계란.csv</td>\n",
       "    </tr>\n",
       "    <tr>\n",
       "      <th>13</th>\n",
       "      <td>5빵</td>\n",
       "      <td>0.0</td>\n",
       "      <td>./data\\문재인.csv</td>\n",
       "    </tr>\n",
       "    <tr>\n",
       "      <th>14</th>\n",
       "      <td>2등</td>\n",
       "      <td>0.0</td>\n",
       "      <td>./data\\김계란.csv</td>\n",
       "    </tr>\n",
       "    <tr>\n",
       "      <th>15</th>\n",
       "      <td>1둥</td>\n",
       "      <td>0.0</td>\n",
       "      <td>./data\\김계란.csv</td>\n",
       "    </tr>\n",
       "  </tbody>\n",
       "</table>\n",
       "</div>"
      ],
      "text/plain": [
       "    댓글  악플여부              출처\n",
       "11  U2   0.0  ./data\\문재인.csv\n",
       "12  2기   0.0  ./data\\김계란.csv\n",
       "13  5빵   0.0  ./data\\문재인.csv\n",
       "14  2등   0.0  ./data\\김계란.csv\n",
       "15  1둥   0.0  ./data\\김계란.csv"
      ]
     },
     "execution_count": 10,
     "metadata": {},
     "output_type": "execute_result"
    }
   ],
   "source": [
    "all_df2.head()"
   ]
  },
  {
   "cell_type": "markdown",
   "metadata": {},
   "source": [
    "## 2. 논문에 근거한 악성뭉치 단어 필터링"
   ]
  },
  {
   "cell_type": "code",
   "execution_count": 11,
   "metadata": {},
   "outputs": [],
   "source": [
    "filter_word_df = pd.read_excel('./필터링단어/필터링단어(논문).xlsx')"
   ]
  },
  {
   "cell_type": "code",
   "execution_count": 12,
   "metadata": {
    "scrolled": true
   },
   "outputs": [
    {
     "data": {
      "text/html": [
       "<div>\n",
       "<style scoped>\n",
       "    .dataframe tbody tr th:only-of-type {\n",
       "        vertical-align: middle;\n",
       "    }\n",
       "\n",
       "    .dataframe tbody tr th {\n",
       "        vertical-align: top;\n",
       "    }\n",
       "\n",
       "    .dataframe thead th {\n",
       "        text-align: right;\n",
       "    }\n",
       "</style>\n",
       "<table border=\"1\" class=\"dataframe\">\n",
       "  <thead>\n",
       "    <tr style=\"text-align: right;\">\n",
       "      <th></th>\n",
       "      <th>욕설(2)</th>\n",
       "      <th>저속한표현(2)</th>\n",
       "      <th>선정적인표현(2)</th>\n",
       "      <th>폭력적인표현(2)</th>\n",
       "      <th>차별적인표현(2)</th>\n",
       "      <th>특정세대비하표현(2)</th>\n",
       "      <th>남녀비하표현(2)</th>\n",
       "      <th>지역비하표현(2)</th>\n",
       "      <th>국가인종비하표현(2)</th>\n",
       "      <th>종교비하표현(2)</th>\n",
       "      <th>비하적인표현(2)</th>\n",
       "    </tr>\n",
       "  </thead>\n",
       "  <tbody>\n",
       "    <tr>\n",
       "      <th>0</th>\n",
       "      <td>스벌, 시퐁할, 쒸팍, ㅆ1파, 씨팔, 씨발, 개씨팔, 18넘, 이 쉑휘들, 씨발 ...</td>\n",
       "      <td>애미후리다, 콩가루 집안 새끼, 대갈통, 대갈빡, 쌍판떄기, 애미애비도 없는 놈, ...</td>\n",
       "      <td>좆나, 좆까, 개좆같은, 좆나게, 좆같다, 좆, 빨통, 젖탱이, 씹질, 좆박다, 좆...</td>\n",
       "      <td>육시럴, 할복해, 몽둥이가 약이겠네, 미친년 그냥 죽어라, 디지세요</td>\n",
       "      <td>옘병, 질알, 개질헐, 지롤, 염병지랄떈스, 개지랄, 사팔뜨기, 빙쉰, 뷰웅시나, ...</td>\n",
       "      <td>간나새끼, 늙다리 놈, 애새끼</td>\n",
       "      <td>재기해, 된장녀, 화냥년, 갈보, 양갈보, 불여우 같은 년</td>\n",
       "      <td>쌍도놈들</td>\n",
       "      <td>좆선, 짱깨, 양키, 깜둥이, 코쟁이, 오랑캐</td>\n",
       "      <td>개dog, 개독, 땡중, 까까중, 무당년</td>\n",
       "      <td>무뇌아, 빠가새끼, 노름꾼 새끼, 입주둥이를 찢어 버릴 놈, 경칠놈, 경칠 놈, 개...</td>\n",
       "    </tr>\n",
       "  </tbody>\n",
       "</table>\n",
       "</div>"
      ],
      "text/plain": [
       "                                               욕설(2)  \\\n",
       "0  스벌, 시퐁할, 쒸팍, ㅆ1파, 씨팔, 씨발, 개씨팔, 18넘, 이 쉑휘들, 씨발 ...   \n",
       "\n",
       "                                            저속한표현(2)  \\\n",
       "0  애미후리다, 콩가루 집안 새끼, 대갈통, 대갈빡, 쌍판떄기, 애미애비도 없는 놈, ...   \n",
       "\n",
       "                                           선정적인표현(2)  \\\n",
       "0  좆나, 좆까, 개좆같은, 좆나게, 좆같다, 좆, 빨통, 젖탱이, 씹질, 좆박다, 좆...   \n",
       "\n",
       "                               폭력적인표현(2)  \\\n",
       "0  육시럴, 할복해, 몽둥이가 약이겠네, 미친년 그냥 죽어라, 디지세요   \n",
       "\n",
       "                                           차별적인표현(2)       특정세대비하표현(2)  \\\n",
       "0  옘병, 질알, 개질헐, 지롤, 염병지랄떈스, 개지랄, 사팔뜨기, 빙쉰, 뷰웅시나, ...  간나새끼, 늙다리 놈, 애새끼   \n",
       "\n",
       "                          남녀비하표현(2) 지역비하표현(2)                국가인종비하표현(2)  \\\n",
       "0  재기해, 된장녀, 화냥년, 갈보, 양갈보, 불여우 같은 년      쌍도놈들  좆선, 짱깨, 양키, 깜둥이, 코쟁이, 오랑캐   \n",
       "\n",
       "                종교비하표현(2)                                          비하적인표현(2)  \n",
       "0  개dog, 개독, 땡중, 까까중, 무당년  무뇌아, 빠가새끼, 노름꾼 새끼, 입주둥이를 찢어 버릴 놈, 경칠놈, 경칠 놈, 개...  "
      ]
     },
     "execution_count": 12,
     "metadata": {},
     "output_type": "execute_result"
    }
   ],
   "source": [
    "filter_word_df"
   ]
  },
  {
   "cell_type": "code",
   "execution_count": 13,
   "metadata": {},
   "outputs": [
    {
     "name": "stderr",
     "output_type": "stream",
     "text": [
      "C:\\Users\\lan41\\Anaconda3\\lib\\site-packages\\ipykernel_launcher.py:1: TqdmDeprecationWarning: This function will be removed in tqdm==5.0.0\n",
      "Please use `tqdm.notebook.tqdm` instead of `tqdm.tqdm_notebook`\n",
      "  \"\"\"Entry point for launching an IPython kernel.\n"
     ]
    },
    {
     "data": {
      "application/vnd.jupyter.widget-view+json": {
       "model_id": "d1d909334a2a419eac182db129c4d14b",
       "version_major": 2,
       "version_minor": 0
      },
      "text/plain": [
       "HBox(children=(HTML(value=''), FloatProgress(value=0.0, max=11.0), HTML(value='')))"
      ]
     },
     "metadata": {},
     "output_type": "display_data"
    },
    {
     "name": "stderr",
     "output_type": "stream",
     "text": [
      "C:\\Users\\lan41\\Anaconda3\\lib\\site-packages\\ipykernel_launcher.py:4: TqdmDeprecationWarning: This function will be removed in tqdm==5.0.0\n",
      "Please use `tqdm.notebook.tqdm` instead of `tqdm.tqdm_notebook`\n",
      "  after removing the cwd from sys.path.\n"
     ]
    },
    {
     "data": {
      "application/vnd.jupyter.widget-view+json": {
       "model_id": "b42022a0fe874473bbdc38b7b16e467e",
       "version_major": 2,
       "version_minor": 0
      },
      "text/plain": [
       "HBox(children=(HTML(value=''), FloatProgress(value=0.0, max=46.0), HTML(value='')))"
      ]
     },
     "metadata": {},
     "output_type": "display_data"
    },
    {
     "name": "stderr",
     "output_type": "stream",
     "text": [
      "C:\\Users\\lan41\\Anaconda3\\lib\\site-packages\\pandas\\core\\indexing.py:1765: SettingWithCopyWarning: \n",
      "A value is trying to be set on a copy of a slice from a DataFrame.\n",
      "Try using .loc[row_indexer,col_indexer] = value instead\n",
      "\n",
      "See the caveats in the documentation: https://pandas.pydata.org/pandas-docs/stable/user_guide/indexing.html#returning-a-view-versus-a-copy\n",
      "  isetter(loc, value)\n",
      "C:\\Users\\lan41\\Anaconda3\\lib\\site-packages\\pandas\\core\\strings.py:2001: UserWarning: This pattern has match groups. To actually get the groups, use str.extract.\n",
      "  return func(self, *args, **kwargs)\n"
     ]
    },
    {
     "name": "stdout",
     "output_type": "stream",
     "text": [
      "\n",
      "필터링된 댓글수 : 2691\n"
     ]
    },
    {
     "data": {
      "application/vnd.jupyter.widget-view+json": {
       "model_id": "765636dd841144218c5be4cbd6a1c46f",
       "version_major": 2,
       "version_minor": 0
      },
      "text/plain": [
       "HBox(children=(HTML(value=''), FloatProgress(value=0.0, max=7.0), HTML(value='')))"
      ]
     },
     "metadata": {},
     "output_type": "display_data"
    },
    {
     "name": "stdout",
     "output_type": "stream",
     "text": [
      "\n",
      "필터링된 댓글수 : 22\n"
     ]
    },
    {
     "data": {
      "application/vnd.jupyter.widget-view+json": {
       "model_id": "42b2509d7e2b44faa032c7cba31c0f2a",
       "version_major": 2,
       "version_minor": 0
      },
      "text/plain": [
       "HBox(children=(HTML(value=''), FloatProgress(value=0.0, max=14.0), HTML(value='')))"
      ]
     },
     "metadata": {},
     "output_type": "display_data"
    },
    {
     "name": "stdout",
     "output_type": "stream",
     "text": [
      "\n",
      "필터링된 댓글수 : 2709\n"
     ]
    },
    {
     "data": {
      "application/vnd.jupyter.widget-view+json": {
       "model_id": "fc48d84b779d47078b4dc548541a2ed6",
       "version_major": 2,
       "version_minor": 0
      },
      "text/plain": [
       "HBox(children=(HTML(value=''), FloatProgress(value=0.0, max=5.0), HTML(value='')))"
      ]
     },
     "metadata": {},
     "output_type": "display_data"
    },
    {
     "name": "stdout",
     "output_type": "stream",
     "text": [
      "\n",
      "필터링된 댓글수 : 3\n"
     ]
    },
    {
     "data": {
      "application/vnd.jupyter.widget-view+json": {
       "model_id": "8bf60b690bbf43c5a2f88dc7ba4c0e3a",
       "version_major": 2,
       "version_minor": 0
      },
      "text/plain": [
       "HBox(children=(HTML(value=''), FloatProgress(value=0.0, max=17.0), HTML(value='')))"
      ]
     },
     "metadata": {},
     "output_type": "display_data"
    },
    {
     "name": "stdout",
     "output_type": "stream",
     "text": [
      "\n",
      "필터링된 댓글수 : 2319\n"
     ]
    },
    {
     "data": {
      "application/vnd.jupyter.widget-view+json": {
       "model_id": "8de2dd423f0d4e24aa20f0adddcba4c1",
       "version_major": 2,
       "version_minor": 0
      },
      "text/plain": [
       "HBox(children=(HTML(value=''), FloatProgress(value=0.0, max=3.0), HTML(value='')))"
      ]
     },
     "metadata": {},
     "output_type": "display_data"
    },
    {
     "name": "stdout",
     "output_type": "stream",
     "text": [
      "\n",
      "필터링된 댓글수 : 90\n"
     ]
    },
    {
     "data": {
      "application/vnd.jupyter.widget-view+json": {
       "model_id": "02371c4f063d41bb8c3d5635c84385f0",
       "version_major": 2,
       "version_minor": 0
      },
      "text/plain": [
       "HBox(children=(HTML(value=''), FloatProgress(value=0.0, max=6.0), HTML(value='')))"
      ]
     },
     "metadata": {},
     "output_type": "display_data"
    },
    {
     "name": "stdout",
     "output_type": "stream",
     "text": [
      "\n",
      "필터링된 댓글수 : 14\n"
     ]
    },
    {
     "data": {
      "application/vnd.jupyter.widget-view+json": {
       "model_id": "99af0463544d4373a06b8ebb897a8848",
       "version_major": 2,
       "version_minor": 0
      },
      "text/plain": [
       "HBox(children=(HTML(value=''), FloatProgress(value=0.0, max=1.0), HTML(value='')))"
      ]
     },
     "metadata": {},
     "output_type": "display_data"
    },
    {
     "name": "stdout",
     "output_type": "stream",
     "text": [
      "\n",
      "필터링된 댓글수 : 0\n"
     ]
    },
    {
     "data": {
      "application/vnd.jupyter.widget-view+json": {
       "model_id": "4e5fcc4273d24bfeb85a7b33bbc722d1",
       "version_major": 2,
       "version_minor": 0
      },
      "text/plain": [
       "HBox(children=(HTML(value=''), FloatProgress(value=0.0, max=6.0), HTML(value='')))"
      ]
     },
     "metadata": {},
     "output_type": "display_data"
    },
    {
     "name": "stdout",
     "output_type": "stream",
     "text": [
      "\n",
      "필터링된 댓글수 : 1291\n"
     ]
    },
    {
     "data": {
      "application/vnd.jupyter.widget-view+json": {
       "model_id": "77aaa73c0ce442c9b29a3cb6306c9f7e",
       "version_major": 2,
       "version_minor": 0
      },
      "text/plain": [
       "HBox(children=(HTML(value=''), FloatProgress(value=0.0, max=5.0), HTML(value='')))"
      ]
     },
     "metadata": {},
     "output_type": "display_data"
    },
    {
     "name": "stdout",
     "output_type": "stream",
     "text": [
      "\n",
      "필터링된 댓글수 : 49\n"
     ]
    },
    {
     "data": {
      "application/vnd.jupyter.widget-view+json": {
       "model_id": "1d8c8614b3204442b7ec042468f6d5fe",
       "version_major": 2,
       "version_minor": 0
      },
      "text/plain": [
       "HBox(children=(HTML(value=''), FloatProgress(value=0.0, max=24.0), HTML(value='')))"
      ]
     },
     "metadata": {},
     "output_type": "display_data"
    },
    {
     "name": "stdout",
     "output_type": "stream",
     "text": [
      "\n",
      "필터링된 댓글수 : 85\n",
      "\n"
     ]
    }
   ],
   "source": [
    "for col in tqdm_notebook(filter_word_df.columns):\n",
    "    word_list = filter_word_df.loc[:, col][0].split(',')\n",
    "    s = 0\n",
    "    for filter_word in tqdm_notebook(word_list):\n",
    "        s += all_df2.loc[ all_df2['댓글'].str.contains(filter_word.strip(), na=False), '악플여부' ].shape[0]\n",
    "        all_df2.loc[ all_df2['댓글'].str.contains(filter_word.strip(), na=False), '악플여부' ] = 2\n",
    "    print('필터링된 댓글수 :', s)"
   ]
  },
  {
   "cell_type": "markdown",
   "metadata": {},
   "source": [
    "#### 논문에 근거한 단어 필터핑 전과 후 비교"
   ]
  },
  {
   "cell_type": "code",
   "execution_count": 17,
   "metadata": {
    "scrolled": true
   },
   "outputs": [
    {
     "data": {
      "text/plain": [
       "0.0    67416\n",
       "2.0    14225\n",
       "1.0     8223\n",
       "Name: 악플여부, dtype: int64"
      ]
     },
     "execution_count": 17,
     "metadata": {},
     "output_type": "execute_result"
    }
   ],
   "source": [
    "all_df['악플여부'].value_counts()"
   ]
  },
  {
   "cell_type": "code",
   "execution_count": 16,
   "metadata": {},
   "outputs": [
    {
     "data": {
      "text/plain": [
       "0.0    67146\n",
       "2.0    16164\n",
       "1.0     6554\n",
       "Name: 악플여부, dtype: int64"
      ]
     },
     "execution_count": 16,
     "metadata": {},
     "output_type": "execute_result"
    }
   ],
   "source": [
    "all_df2['악플여부'].value_counts()"
   ]
  },
  {
   "cell_type": "code",
   "execution_count": 18,
   "metadata": {},
   "outputs": [],
   "source": [
    "all_df2.to_csv('./05_전처리완료된데이터/comment_data.csv', encoding='UTF-8-SIG')"
   ]
  }
 ],
 "metadata": {
  "kernelspec": {
   "display_name": "Python 3",
   "language": "python",
   "name": "python3"
  },
  "language_info": {
   "codemirror_mode": {
    "name": "ipython",
    "version": 3
   },
   "file_extension": ".py",
   "mimetype": "text/x-python",
   "name": "python",
   "nbconvert_exporter": "python",
   "pygments_lexer": "ipython3",
   "version": "3.8.5"
  }
 },
 "nbformat": 4,
 "nbformat_minor": 4
}
